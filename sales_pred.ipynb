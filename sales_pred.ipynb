{
 "cells": [
  {
   "cell_type": "code",
   "execution_count": null,
   "id": "1477e889",
   "metadata": {},
   "outputs": [],
   "source": []
  },
  {
   "cell_type": "code",
   "execution_count": 1,
   "id": "64fbcd40",
   "metadata": {},
   "outputs": [],
   "source": [
    "#importing labraries\n",
    "import pandas as pd"
   ]
  },
  {
   "cell_type": "code",
   "execution_count": 2,
   "id": "8121b5bc",
   "metadata": {},
   "outputs": [
    {
     "data": {
      "text/html": [
       "<div>\n",
       "<style scoped>\n",
       "    .dataframe tbody tr th:only-of-type {\n",
       "        vertical-align: middle;\n",
       "    }\n",
       "\n",
       "    .dataframe tbody tr th {\n",
       "        vertical-align: top;\n",
       "    }\n",
       "\n",
       "    .dataframe thead th {\n",
       "        text-align: right;\n",
       "    }\n",
       "</style>\n",
       "<table border=\"1\" class=\"dataframe\">\n",
       "  <thead>\n",
       "    <tr style=\"text-align: right;\">\n",
       "      <th></th>\n",
       "      <th>Unnamed: 0</th>\n",
       "      <th>TV</th>\n",
       "      <th>Radio</th>\n",
       "      <th>Newspaper</th>\n",
       "      <th>Sales</th>\n",
       "    </tr>\n",
       "  </thead>\n",
       "  <tbody>\n",
       "    <tr>\n",
       "      <th>0</th>\n",
       "      <td>1</td>\n",
       "      <td>230.1</td>\n",
       "      <td>37.8</td>\n",
       "      <td>69.2</td>\n",
       "      <td>22.1</td>\n",
       "    </tr>\n",
       "    <tr>\n",
       "      <th>1</th>\n",
       "      <td>2</td>\n",
       "      <td>44.5</td>\n",
       "      <td>39.3</td>\n",
       "      <td>45.1</td>\n",
       "      <td>10.4</td>\n",
       "    </tr>\n",
       "    <tr>\n",
       "      <th>2</th>\n",
       "      <td>3</td>\n",
       "      <td>17.2</td>\n",
       "      <td>45.9</td>\n",
       "      <td>69.3</td>\n",
       "      <td>9.3</td>\n",
       "    </tr>\n",
       "    <tr>\n",
       "      <th>3</th>\n",
       "      <td>4</td>\n",
       "      <td>151.5</td>\n",
       "      <td>41.3</td>\n",
       "      <td>58.5</td>\n",
       "      <td>18.5</td>\n",
       "    </tr>\n",
       "    <tr>\n",
       "      <th>4</th>\n",
       "      <td>5</td>\n",
       "      <td>180.8</td>\n",
       "      <td>10.8</td>\n",
       "      <td>58.4</td>\n",
       "      <td>12.9</td>\n",
       "    </tr>\n",
       "    <tr>\n",
       "      <th>...</th>\n",
       "      <td>...</td>\n",
       "      <td>...</td>\n",
       "      <td>...</td>\n",
       "      <td>...</td>\n",
       "      <td>...</td>\n",
       "    </tr>\n",
       "    <tr>\n",
       "      <th>195</th>\n",
       "      <td>196</td>\n",
       "      <td>38.2</td>\n",
       "      <td>3.7</td>\n",
       "      <td>13.8</td>\n",
       "      <td>7.6</td>\n",
       "    </tr>\n",
       "    <tr>\n",
       "      <th>196</th>\n",
       "      <td>197</td>\n",
       "      <td>94.2</td>\n",
       "      <td>4.9</td>\n",
       "      <td>8.1</td>\n",
       "      <td>9.7</td>\n",
       "    </tr>\n",
       "    <tr>\n",
       "      <th>197</th>\n",
       "      <td>198</td>\n",
       "      <td>177.0</td>\n",
       "      <td>9.3</td>\n",
       "      <td>6.4</td>\n",
       "      <td>12.8</td>\n",
       "    </tr>\n",
       "    <tr>\n",
       "      <th>198</th>\n",
       "      <td>199</td>\n",
       "      <td>283.6</td>\n",
       "      <td>42.0</td>\n",
       "      <td>66.2</td>\n",
       "      <td>25.5</td>\n",
       "    </tr>\n",
       "    <tr>\n",
       "      <th>199</th>\n",
       "      <td>200</td>\n",
       "      <td>232.1</td>\n",
       "      <td>8.6</td>\n",
       "      <td>8.7</td>\n",
       "      <td>13.4</td>\n",
       "    </tr>\n",
       "  </tbody>\n",
       "</table>\n",
       "<p>200 rows × 5 columns</p>\n",
       "</div>"
      ],
      "text/plain": [
       "     Unnamed: 0     TV  Radio  Newspaper  Sales\n",
       "0             1  230.1   37.8       69.2   22.1\n",
       "1             2   44.5   39.3       45.1   10.4\n",
       "2             3   17.2   45.9       69.3    9.3\n",
       "3             4  151.5   41.3       58.5   18.5\n",
       "4             5  180.8   10.8       58.4   12.9\n",
       "..          ...    ...    ...        ...    ...\n",
       "195         196   38.2    3.7       13.8    7.6\n",
       "196         197   94.2    4.9        8.1    9.7\n",
       "197         198  177.0    9.3        6.4   12.8\n",
       "198         199  283.6   42.0       66.2   25.5\n",
       "199         200  232.1    8.6        8.7   13.4\n",
       "\n",
       "[200 rows x 5 columns]"
      ]
     },
     "execution_count": 2,
     "metadata": {},
     "output_type": "execute_result"
    }
   ],
   "source": [
    "df = pd.read_csv(\"Advertising.csv\")\n",
    "df"
   ]
  },
  {
   "cell_type": "code",
   "execution_count": 3,
   "id": "721ffb0a",
   "metadata": {},
   "outputs": [
    {
     "data": {
      "text/html": [
       "<div>\n",
       "<style scoped>\n",
       "    .dataframe tbody tr th:only-of-type {\n",
       "        vertical-align: middle;\n",
       "    }\n",
       "\n",
       "    .dataframe tbody tr th {\n",
       "        vertical-align: top;\n",
       "    }\n",
       "\n",
       "    .dataframe thead th {\n",
       "        text-align: right;\n",
       "    }\n",
       "</style>\n",
       "<table border=\"1\" class=\"dataframe\">\n",
       "  <thead>\n",
       "    <tr style=\"text-align: right;\">\n",
       "      <th></th>\n",
       "      <th>TV</th>\n",
       "      <th>Radio</th>\n",
       "      <th>Newspaper</th>\n",
       "      <th>Sales</th>\n",
       "    </tr>\n",
       "  </thead>\n",
       "  <tbody>\n",
       "    <tr>\n",
       "      <th>1</th>\n",
       "      <td>230.1</td>\n",
       "      <td>37.8</td>\n",
       "      <td>69.2</td>\n",
       "      <td>22.1</td>\n",
       "    </tr>\n",
       "    <tr>\n",
       "      <th>2</th>\n",
       "      <td>44.5</td>\n",
       "      <td>39.3</td>\n",
       "      <td>45.1</td>\n",
       "      <td>10.4</td>\n",
       "    </tr>\n",
       "    <tr>\n",
       "      <th>3</th>\n",
       "      <td>17.2</td>\n",
       "      <td>45.9</td>\n",
       "      <td>69.3</td>\n",
       "      <td>9.3</td>\n",
       "    </tr>\n",
       "    <tr>\n",
       "      <th>4</th>\n",
       "      <td>151.5</td>\n",
       "      <td>41.3</td>\n",
       "      <td>58.5</td>\n",
       "      <td>18.5</td>\n",
       "    </tr>\n",
       "    <tr>\n",
       "      <th>5</th>\n",
       "      <td>180.8</td>\n",
       "      <td>10.8</td>\n",
       "      <td>58.4</td>\n",
       "      <td>12.9</td>\n",
       "    </tr>\n",
       "    <tr>\n",
       "      <th>...</th>\n",
       "      <td>...</td>\n",
       "      <td>...</td>\n",
       "      <td>...</td>\n",
       "      <td>...</td>\n",
       "    </tr>\n",
       "    <tr>\n",
       "      <th>196</th>\n",
       "      <td>38.2</td>\n",
       "      <td>3.7</td>\n",
       "      <td>13.8</td>\n",
       "      <td>7.6</td>\n",
       "    </tr>\n",
       "    <tr>\n",
       "      <th>197</th>\n",
       "      <td>94.2</td>\n",
       "      <td>4.9</td>\n",
       "      <td>8.1</td>\n",
       "      <td>9.7</td>\n",
       "    </tr>\n",
       "    <tr>\n",
       "      <th>198</th>\n",
       "      <td>177.0</td>\n",
       "      <td>9.3</td>\n",
       "      <td>6.4</td>\n",
       "      <td>12.8</td>\n",
       "    </tr>\n",
       "    <tr>\n",
       "      <th>199</th>\n",
       "      <td>283.6</td>\n",
       "      <td>42.0</td>\n",
       "      <td>66.2</td>\n",
       "      <td>25.5</td>\n",
       "    </tr>\n",
       "    <tr>\n",
       "      <th>200</th>\n",
       "      <td>232.1</td>\n",
       "      <td>8.6</td>\n",
       "      <td>8.7</td>\n",
       "      <td>13.4</td>\n",
       "    </tr>\n",
       "  </tbody>\n",
       "</table>\n",
       "<p>200 rows × 4 columns</p>\n",
       "</div>"
      ],
      "text/plain": [
       "        TV  Radio  Newspaper  Sales\n",
       "1    230.1   37.8       69.2   22.1\n",
       "2     44.5   39.3       45.1   10.4\n",
       "3     17.2   45.9       69.3    9.3\n",
       "4    151.5   41.3       58.5   18.5\n",
       "5    180.8   10.8       58.4   12.9\n",
       "..     ...    ...        ...    ...\n",
       "196   38.2    3.7       13.8    7.6\n",
       "197   94.2    4.9        8.1    9.7\n",
       "198  177.0    9.3        6.4   12.8\n",
       "199  283.6   42.0       66.2   25.5\n",
       "200  232.1    8.6        8.7   13.4\n",
       "\n",
       "[200 rows x 4 columns]"
      ]
     },
     "execution_count": 3,
     "metadata": {},
     "output_type": "execute_result"
    }
   ],
   "source": [
    "# droping the index column \"unnamed :0\"\n",
    "df = pd.read_csv(\"Advertising.csv\", index_col=0)\n",
    "df"
   ]
  },
  {
   "cell_type": "code",
   "execution_count": 4,
   "id": "e62fb569",
   "metadata": {},
   "outputs": [
    {
     "name": "stdout",
     "output_type": "stream",
     "text": [
      "Collecting missingno\n",
      "  Using cached missingno-0.5.2-py3-none-any.whl (8.7 kB)\n",
      "Requirement already satisfied: matplotlib in /Users/AKB_CIM/anaconda3/lib/python3.10/site-packages (from missingno) (3.7.0)\n",
      "Requirement already satisfied: seaborn in /Users/AKB_CIM/anaconda3/lib/python3.10/site-packages (from missingno) (0.12.2)\n",
      "Requirement already satisfied: scipy in /Users/AKB_CIM/anaconda3/lib/python3.10/site-packages (from missingno) (1.10.0)\n",
      "Requirement already satisfied: numpy in /Users/AKB_CIM/anaconda3/lib/python3.10/site-packages (from missingno) (1.23.5)\n",
      "Requirement already satisfied: fonttools>=4.22.0 in /Users/AKB_CIM/anaconda3/lib/python3.10/site-packages (from matplotlib->missingno) (4.25.0)\n",
      "Requirement already satisfied: cycler>=0.10 in /Users/AKB_CIM/anaconda3/lib/python3.10/site-packages (from matplotlib->missingno) (0.11.0)\n",
      "Requirement already satisfied: packaging>=20.0 in /Users/AKB_CIM/anaconda3/lib/python3.10/site-packages (from matplotlib->missingno) (22.0)\n",
      "Requirement already satisfied: pillow>=6.2.0 in /Users/AKB_CIM/anaconda3/lib/python3.10/site-packages (from matplotlib->missingno) (9.4.0)\n",
      "Requirement already satisfied: python-dateutil>=2.7 in /Users/AKB_CIM/anaconda3/lib/python3.10/site-packages (from matplotlib->missingno) (2.8.2)\n",
      "Requirement already satisfied: contourpy>=1.0.1 in /Users/AKB_CIM/anaconda3/lib/python3.10/site-packages (from matplotlib->missingno) (1.0.5)\n",
      "Requirement already satisfied: kiwisolver>=1.0.1 in /Users/AKB_CIM/anaconda3/lib/python3.10/site-packages (from matplotlib->missingno) (1.4.4)\n",
      "Requirement already satisfied: pyparsing>=2.3.1 in /Users/AKB_CIM/anaconda3/lib/python3.10/site-packages (from matplotlib->missingno) (3.0.9)\n",
      "Requirement already satisfied: pandas>=0.25 in /Users/AKB_CIM/anaconda3/lib/python3.10/site-packages (from seaborn->missingno) (1.5.3)\n",
      "Requirement already satisfied: pytz>=2020.1 in /Users/AKB_CIM/anaconda3/lib/python3.10/site-packages (from pandas>=0.25->seaborn->missingno) (2022.7)\n",
      "Requirement already satisfied: six>=1.5 in /Users/AKB_CIM/anaconda3/lib/python3.10/site-packages (from python-dateutil>=2.7->matplotlib->missingno) (1.16.0)\n",
      "Installing collected packages: missingno\n",
      "Successfully installed missingno-0.5.2\n"
     ]
    }
   ],
   "source": [
    "#checking for missing valuse\n",
    "#!pip install missingno\n"
   ]
  },
  {
   "cell_type": "code",
   "execution_count": 4,
   "id": "02d264fe",
   "metadata": {},
   "outputs": [],
   "source": [
    "import missingno as msno\n",
    "#matplotlib library for plotting 2D graphics\n",
    "import matplotlib.pyplot as plt"
   ]
  },
  {
   "cell_type": "code",
   "execution_count": 5,
   "id": "3884ead3",
   "metadata": {},
   "outputs": [
    {
     "data": {
      "image/png": "[encoded data removed]",
      "text/plain": [
       "<Figure size 2500x1000 with 3 Axes>"
      ]
     },
     "metadata": {},
     "output_type": "display_data"
    }
   ],
   "source": [
    "msno.bar(df)\n",
    "plt.title('bar chart for missing values', fontsize=30, fontweight='bold')\n",
    "plt.show()"
   ]
  },
  {
   "cell_type": "code",
   "execution_count": 6,
   "id": "cd85eff2",
   "metadata": {},
   "outputs": [
    {
     "data": {
      "text/plain": [
       "Index(['TV', 'Radio', 'Newspaper', 'Sales'], dtype='object')"
      ]
     },
     "execution_count": 6,
     "metadata": {},
     "output_type": "execute_result"
    }
   ],
   "source": [
    "df.columns"
   ]
  },
  {
   "cell_type": "markdown",
   "id": "187649c5",
   "metadata": {},
   "source": [
    "# checking if there's relationship between sales and the TV"
   ]
  },
  {
   "cell_type": "code",
   "execution_count": 8,
   "id": "cb76f9d5",
   "metadata": {},
   "outputs": [],
   "source": [
    "# taking the TV column and the sales column and assign the series to X and y\n",
    "# using tv to predict the sales, sales as the response variable and Tv as the predictor \n",
    "#or feature\n",
    "\n",
    "x = df['TV'].tolist()\n",
    "y = df['Sales'].tolist()"
   ]
  },
  {
   "cell_type": "code",
   "execution_count": 9,
   "id": "07d410bc",
   "metadata": {},
   "outputs": [
    {
     "data": {
      "text/plain": [
       "(0.04753664043301975,\n",
       " 7.032593549127695,\n",
       " 0.7822244248616065,\n",
       " 1.467389700194655e-42,\n",
       " 0.0026906071877968703)"
      ]
     },
     "execution_count": 9,
     "metadata": {},
     "output_type": "execute_result"
    }
   ],
   "source": [
    "# simple linear regression\n",
    "\n",
    "from scipy import stats\n",
    "slope, intercept, r, p, std_err = stats.linregress(x, y)\n",
    "slope, intercept, r, p, std_err"
   ]
  },
  {
   "cell_type": "code",
   "execution_count": 10,
   "id": "5aa89681",
   "metadata": {},
   "outputs": [
    {
     "name": "stdout",
     "output_type": "stream",
     "text": [
      "the sales will be : 8.934059166448485\n"
     ]
    }
   ],
   "source": [
    "\n",
    "\n",
    "def regr(x):\n",
    "    return intercept + slope * x\n",
    "sales = regr(40)\n",
    "print('the sales will be :', sales)"
   ]
  },
  {
   "cell_type": "code",
   "execution_count": 11,
   "id": "87ee8f5a",
   "metadata": {},
   "outputs": [
    {
     "data": {
      "image/png": "[encoded data removed]",
      "text/plain": [
       "<Figure size 640x480 with 1 Axes>"
      ]
     },
     "metadata": {},
     "output_type": "display_data"
    }
   ],
   "source": [
    "# the line of Linear Regression:\n",
    "mymodel = list(map(regr, x))\n",
    "\n",
    "plt.scatter(x, y)\n",
    "plt.plot(x, mymodel)\n",
    "plt.show()"
   ]
  },
  {
   "cell_type": "markdown",
   "id": "24033abc",
   "metadata": {},
   "source": [
    "# Polynomial Regression"
   ]
  },
  {
   "cell_type": "code",
   "execution_count": 14,
   "id": "7264484a",
   "metadata": {},
   "outputs": [
    {
     "data": {
      "image/png": "[encoded data removed]",
      "text/plain": [
       "<Figure size 640x480 with 1 Axes>"
      ]
     },
     "metadata": {},
     "output_type": "display_data"
    }
   ],
   "source": [
    "import numpy as np\n",
    "import matplotlib.pyplot as plt\n",
    "\n",
    "x_1 = [1,2,3,5,6,7,8,9,10,12,13,14,15,16,18,19,21,22]\n",
    "y_1 = [100,90,80,60,60,55,60,65,70,70,75,76,78,79,90,99,99,100]\n",
    "mymodel = np.poly1d(np.polyfit(x_1, y_1, 3))\n",
    "\n",
    "myline = np.linspace(1, 22, 100)\n",
    "\n",
    "plt.scatter(x_1, y_1)\n",
    "plt.plot(myline, mymodel(myline))\n",
    "plt.show()\n"
   ]
  },
  {
   "cell_type": "markdown",
   "id": "74c5014a",
   "metadata": {},
   "source": [
    "# R-Squared\n"
   ]
  },
  {
   "cell_type": "code",
   "execution_count": null,
   "id": "d21f82ff",
   "metadata": {},
   "outputs": [],
   "source": [
    "#It is important to know how well the relationship between the values of the x- and y-axis is, \n",
    "#if there are no relationship the polynomial regression can not be used to predict anything.\n",
    "\n",
    "#The relationship is measured with a value called the r-squared.\n",
    "\n",
    "#The r-squared value ranges from 0 to 1, where 0 means no relationship, and 1 means 100% related."
   ]
  },
  {
   "cell_type": "code",
   "execution_count": 15,
   "id": "2d1a3dba",
   "metadata": {},
   "outputs": [
    {
     "name": "stdout",
     "output_type": "stream",
     "text": [
      "0.9432150416451027\n"
     ]
    }
   ],
   "source": [
    "from sklearn.metrics import r2_score\n",
    "print(r2_score(y, mymodel(x_1)))\n"
   ]
  },
  {
   "cell_type": "code",
   "execution_count": 16,
   "id": "d86e5ead",
   "metadata": {},
   "outputs": [
    {
     "data": {
      "text/plain": [
       "62.39730982562989"
      ]
     },
     "execution_count": 16,
     "metadata": {},
     "output_type": "execute_result"
    }
   ],
   "source": [
    "#make prediction\n",
    "speed = mymodel(10)\n",
    "speed"
   ]
  },
  {
   "cell_type": "code",
   "execution_count": 22,
   "id": "32f65243",
   "metadata": {},
   "outputs": [
    {
     "data": {
      "image/png": "[encoded data removed]",
      "text/plain": [
       "<Figure size 640x480 with 1 Axes>"
      ]
     },
     "metadata": {},
     "output_type": "display_data"
    },
    {
     "name": "stdout",
     "output_type": "stream",
     "text": [
      "the R2_score is :  0.6220016830036417\n"
     ]
    }
   ],
   "source": [
    "#lets try and see if polynomial regreesion will be a good fit for the sales dataset\n",
    "x = df['TV'].tolist()\n",
    "y = df['Sales'].tolist()\n",
    "\n",
    "mymodel = np.poly1d(np.polyfit(x, y, 3))\n",
    "\n",
    "myline = np.linspace(1, 200, 100)\n",
    "\n",
    "plt.scatter(x, y)\n",
    "plt.plot(myline, mymodel(myline))\n",
    "plt.show()\n",
    "print(\"the R2_score is : \", r2_score(y, mymodel(x)))\n"
   ]
  },
  {
   "cell_type": "markdown",
   "id": "3363246d",
   "metadata": {},
   "source": [
    "# Introducing Scikit-Learn for linear regression"
   ]
  },
  {
   "cell_type": "code",
   "execution_count": 23,
   "id": "292c6338",
   "metadata": {},
   "outputs": [],
   "source": [
    "from sklearn.linear_model import LinearRegression\n",
    "\n",
    "X = df[['TV']].values\n",
    "y = df['Sales'].values"
   ]
  },
  {
   "cell_type": "code",
   "execution_count": 24,
   "id": "2192c6f6",
   "metadata": {},
   "outputs": [],
   "source": [
    "#Winstantiating the model by using linear regression and call it reg\n",
    "reg = LinearRegression()"
   ]
  },
  {
   "cell_type": "code",
   "execution_count": 25,
   "id": "63920cf7",
   "metadata": {},
   "outputs": [
    {
     "data": {
      "text/html": [
       "<style>#sk-container-id-1 {color: black;background-color: white;}#sk-container-id-1 pre{padding: 0;}#sk-container-id-1 div.sk-toggleable {background-color: white;}#sk-container-id-1 label.sk-toggleable__label {cursor: pointer;display: block;width: 100%;margin-bottom: 0;padding: 0.3em;box-sizing: border-box;text-align: center;}#sk-container-id-1 label.sk-toggleable__label-arrow:before {content: \"▸\";float: left;margin-right: 0.25em;color: #696969;}#sk-container-id-1 label.sk-toggleable__label-arrow:hover:before {color: black;}#sk-container-id-1 div.sk-estimator:hover label.sk-toggleable__label-arrow:before {color: black;}#sk-container-id-1 div.sk-toggleable__content {max-height: 0;max-width: 0;overflow: hidden;text-align: left;background-color: #f0f8ff;}#sk-container-id-1 div.sk-toggleable__content pre {margin: 0.2em;color: black;border-radius: 0.25em;background-color: #f0f8ff;}#sk-container-id-1 input.sk-toggleable__control:checked~div.sk-toggleable__content {max-height: 200px;max-width: 100%;overflow: auto;}#sk-container-id-1 input.sk-toggleable__control:checked~label.sk-toggleable__label-arrow:before {content: \"▾\";}#sk-container-id-1 div.sk-estimator input.sk-toggleable__control:checked~label.sk-toggleable__label {background-color: #d4ebff;}#sk-container-id-1 div.sk-label input.sk-toggleable__control:checked~label.sk-toggleable__label {background-color: #d4ebff;}#sk-container-id-1 input.sk-hidden--visually {border: 0;clip: rect(1px 1px 1px 1px);clip: rect(1px, 1px, 1px, 1px);height: 1px;margin: -1px;overflow: hidden;padding: 0;position: absolute;width: 1px;}#sk-container-id-1 div.sk-estimator {font-family: monospace;background-color: #f0f8ff;border: 1px dotted black;border-radius: 0.25em;box-sizing: border-box;margin-bottom: 0.5em;}#sk-container-id-1 div.sk-estimator:hover {background-color: #d4ebff;}#sk-container-id-1 div.sk-parallel-item::after {content: \"\";width: 100%;border-bottom: 1px solid gray;flex-grow: 1;}#sk-container-id-1 div.sk-label:hover label.sk-toggleable__label {background-color: #d4ebff;}#sk-container-id-1 div.sk-serial::before {content: \"\";position: absolute;border-left: 1px solid gray;box-sizing: border-box;top: 0;bottom: 0;left: 50%;z-index: 0;}#sk-container-id-1 div.sk-serial {display: flex;flex-direction: column;align-items: center;background-color: white;padding-right: 0.2em;padding-left: 0.2em;position: relative;}#sk-container-id-1 div.sk-item {position: relative;z-index: 1;}#sk-container-id-1 div.sk-parallel {display: flex;align-items: stretch;justify-content: center;background-color: white;position: relative;}#sk-container-id-1 div.sk-item::before, #sk-container-id-1 div.sk-parallel-item::before {content: \"\";position: absolute;border-left: 1px solid gray;box-sizing: border-box;top: 0;bottom: 0;left: 50%;z-index: -1;}#sk-container-id-1 div.sk-parallel-item {display: flex;flex-direction: column;z-index: 1;position: relative;background-color: white;}#sk-container-id-1 div.sk-parallel-item:first-child::after {align-self: flex-end;width: 50%;}#sk-container-id-1 div.sk-parallel-item:last-child::after {align-self: flex-start;width: 50%;}#sk-container-id-1 div.sk-parallel-item:only-child::after {width: 0;}#sk-container-id-1 div.sk-dashed-wrapped {border: 1px dashed gray;margin: 0 0.4em 0.5em 0.4em;box-sizing: border-box;padding-bottom: 0.4em;background-color: white;}#sk-container-id-1 div.sk-label label {font-family: monospace;font-weight: bold;display: inline-block;line-height: 1.2em;}#sk-container-id-1 div.sk-label-container {text-align: center;}#sk-container-id-1 div.sk-container {/* jupyter's `normalize.less` sets `[hidden] { display: none; }` but bootstrap.min.css set `[hidden] { display: none !important; }` so we also need the `!important` here to be able to override the default hidden behavior on the sphinx rendered scikit-learn.org. See: https://github.com/scikit-learn/scikit-learn/issues/21755 */display: inline-block !important;position: relative;}#sk-container-id-1 div.sk-text-repr-fallback {display: none;}</style><div id=\"sk-container-id-1\" class=\"sk-top-container\"><div class=\"sk-text-repr-fallback\"><pre>LinearRegression()</pre><b>In a Jupyter environment, please rerun this cell to show the HTML representation or trust the notebook. <br />On GitHub, the HTML representation is unable to render, please try loading this page with nbviewer.org.</b></div><div class=\"sk-container\" hidden><div class=\"sk-item\"><div class=\"sk-estimator sk-toggleable\"><input class=\"sk-toggleable__control sk-hidden--visually\" id=\"sk-estimator-id-1\" type=\"checkbox\" checked><label for=\"sk-estimator-id-1\" class=\"sk-toggleable__label sk-toggleable__label-arrow\">LinearRegression</label><div class=\"sk-toggleable__content\"><pre>LinearRegression()</pre></div></div></div></div></div>"
      ],
      "text/plain": [
       "LinearRegression()"
      ]
     },
     "execution_count": 25,
     "metadata": {},
     "output_type": "execute_result"
    }
   ],
   "source": [
    "# using now that model to fit the data by passing the data X and y\n",
    "reg.fit(X,y)"
   ]
  },
  {
   "cell_type": "code",
   "execution_count": 26,
   "id": "aab7ca2f",
   "metadata": {},
   "outputs": [
    {
     "name": "stdout",
     "output_type": "stream",
     "text": [
      "slope = [0.04753664]\n",
      "intercept =  7.0325935491276885\n"
     ]
    }
   ],
   "source": [
    "#having fitted the model i can use the same variable, reg, to take the attribute \n",
    "#coefficients to see the slope and intercept. The underscore is used to see the slope.\n",
    "\n",
    "slop = reg.coef_\n",
    "intercept = reg.intercept_\n",
    "\n",
    "print('slope =', slop)\n",
    "print('intercept = ', intercept)"
   ]
  },
  {
   "cell_type": "code",
   "execution_count": 27,
   "id": "1e13bf00",
   "metadata": {},
   "outputs": [
    {
     "data": {
      "text/plain": [
       "array([8.93405917])"
      ]
     },
     "execution_count": 27,
     "metadata": {},
     "output_type": "execute_result"
    }
   ],
   "source": [
    "#i can use the method predict to predict at any given x(tv) what would be the value of y(sales)\n",
    "import numpy as np\n",
    "pred = reg.predict(np.array([[40]]))\n",
    "pred"
   ]
  },
  {
   "cell_type": "markdown",
   "id": "11ac5e32",
   "metadata": {},
   "source": [
    "# Multiple Regression"
   ]
  },
  {
   "cell_type": "code",
   "execution_count": 28,
   "id": "c20cccd7",
   "metadata": {},
   "outputs": [
    {
     "data": {
      "text/html": [
       "<div>\n",
       "<style scoped>\n",
       "    .dataframe tbody tr th:only-of-type {\n",
       "        vertical-align: middle;\n",
       "    }\n",
       "\n",
       "    .dataframe tbody tr th {\n",
       "        vertical-align: top;\n",
       "    }\n",
       "\n",
       "    .dataframe thead th {\n",
       "        text-align: right;\n",
       "    }\n",
       "</style>\n",
       "<table border=\"1\" class=\"dataframe\">\n",
       "  <thead>\n",
       "    <tr style=\"text-align: right;\">\n",
       "      <th></th>\n",
       "      <th>TV</th>\n",
       "      <th>Radio</th>\n",
       "      <th>Newspaper</th>\n",
       "      <th>Sales</th>\n",
       "    </tr>\n",
       "  </thead>\n",
       "  <tbody>\n",
       "    <tr>\n",
       "      <th>1</th>\n",
       "      <td>230.1</td>\n",
       "      <td>37.8</td>\n",
       "      <td>69.2</td>\n",
       "      <td>22.1</td>\n",
       "    </tr>\n",
       "    <tr>\n",
       "      <th>2</th>\n",
       "      <td>44.5</td>\n",
       "      <td>39.3</td>\n",
       "      <td>45.1</td>\n",
       "      <td>10.4</td>\n",
       "    </tr>\n",
       "    <tr>\n",
       "      <th>3</th>\n",
       "      <td>17.2</td>\n",
       "      <td>45.9</td>\n",
       "      <td>69.3</td>\n",
       "      <td>9.3</td>\n",
       "    </tr>\n",
       "    <tr>\n",
       "      <th>4</th>\n",
       "      <td>151.5</td>\n",
       "      <td>41.3</td>\n",
       "      <td>58.5</td>\n",
       "      <td>18.5</td>\n",
       "    </tr>\n",
       "    <tr>\n",
       "      <th>5</th>\n",
       "      <td>180.8</td>\n",
       "      <td>10.8</td>\n",
       "      <td>58.4</td>\n",
       "      <td>12.9</td>\n",
       "    </tr>\n",
       "  </tbody>\n",
       "</table>\n",
       "</div>"
      ],
      "text/plain": [
       "      TV  Radio  Newspaper  Sales\n",
       "1  230.1   37.8       69.2   22.1\n",
       "2   44.5   39.3       45.1   10.4\n",
       "3   17.2   45.9       69.3    9.3\n",
       "4  151.5   41.3       58.5   18.5\n",
       "5  180.8   10.8       58.4   12.9"
      ]
     },
     "execution_count": 28,
     "metadata": {},
     "output_type": "execute_result"
    }
   ],
   "source": [
    "df.head()"
   ]
  },
  {
   "cell_type": "code",
   "execution_count": 38,
   "id": "53b00232",
   "metadata": {},
   "outputs": [],
   "source": [
    "X = df[['TV', 'Radio', 'Newspaper']].values\n",
    "y = df['Sales'].values"
   ]
  },
  {
   "cell_type": "code",
   "execution_count": 39,
   "id": "c4d0379e",
   "metadata": {},
   "outputs": [
    {
     "data": {
      "text/html": [
       "<style>#sk-container-id-4 {color: black;background-color: white;}#sk-container-id-4 pre{padding: 0;}#sk-container-id-4 div.sk-toggleable {background-color: white;}#sk-container-id-4 label.sk-toggleable__label {cursor: pointer;display: block;width: 100%;margin-bottom: 0;padding: 0.3em;box-sizing: border-box;text-align: center;}#sk-container-id-4 label.sk-toggleable__label-arrow:before {content: \"▸\";float: left;margin-right: 0.25em;color: #696969;}#sk-container-id-4 label.sk-toggleable__label-arrow:hover:before {color: black;}#sk-container-id-4 div.sk-estimator:hover label.sk-toggleable__label-arrow:before {color: black;}#sk-container-id-4 div.sk-toggleable__content {max-height: 0;max-width: 0;overflow: hidden;text-align: left;background-color: #f0f8ff;}#sk-container-id-4 div.sk-toggleable__content pre {margin: 0.2em;color: black;border-radius: 0.25em;background-color: #f0f8ff;}#sk-container-id-4 input.sk-toggleable__control:checked~div.sk-toggleable__content {max-height: 200px;max-width: 100%;overflow: auto;}#sk-container-id-4 input.sk-toggleable__control:checked~label.sk-toggleable__label-arrow:before {content: \"▾\";}#sk-container-id-4 div.sk-estimator input.sk-toggleable__control:checked~label.sk-toggleable__label {background-color: #d4ebff;}#sk-container-id-4 div.sk-label input.sk-toggleable__control:checked~label.sk-toggleable__label {background-color: #d4ebff;}#sk-container-id-4 input.sk-hidden--visually {border: 0;clip: rect(1px 1px 1px 1px);clip: rect(1px, 1px, 1px, 1px);height: 1px;margin: -1px;overflow: hidden;padding: 0;position: absolute;width: 1px;}#sk-container-id-4 div.sk-estimator {font-family: monospace;background-color: #f0f8ff;border: 1px dotted black;border-radius: 0.25em;box-sizing: border-box;margin-bottom: 0.5em;}#sk-container-id-4 div.sk-estimator:hover {background-color: #d4ebff;}#sk-container-id-4 div.sk-parallel-item::after {content: \"\";width: 100%;border-bottom: 1px solid gray;flex-grow: 1;}#sk-container-id-4 div.sk-label:hover label.sk-toggleable__label {background-color: #d4ebff;}#sk-container-id-4 div.sk-serial::before {content: \"\";position: absolute;border-left: 1px solid gray;box-sizing: border-box;top: 0;bottom: 0;left: 50%;z-index: 0;}#sk-container-id-4 div.sk-serial {display: flex;flex-direction: column;align-items: center;background-color: white;padding-right: 0.2em;padding-left: 0.2em;position: relative;}#sk-container-id-4 div.sk-item {position: relative;z-index: 1;}#sk-container-id-4 div.sk-parallel {display: flex;align-items: stretch;justify-content: center;background-color: white;position: relative;}#sk-container-id-4 div.sk-item::before, #sk-container-id-4 div.sk-parallel-item::before {content: \"\";position: absolute;border-left: 1px solid gray;box-sizing: border-box;top: 0;bottom: 0;left: 50%;z-index: -1;}#sk-container-id-4 div.sk-parallel-item {display: flex;flex-direction: column;z-index: 1;position: relative;background-color: white;}#sk-container-id-4 div.sk-parallel-item:first-child::after {align-self: flex-end;width: 50%;}#sk-container-id-4 div.sk-parallel-item:last-child::after {align-self: flex-start;width: 50%;}#sk-container-id-4 div.sk-parallel-item:only-child::after {width: 0;}#sk-container-id-4 div.sk-dashed-wrapped {border: 1px dashed gray;margin: 0 0.4em 0.5em 0.4em;box-sizing: border-box;padding-bottom: 0.4em;background-color: white;}#sk-container-id-4 div.sk-label label {font-family: monospace;font-weight: bold;display: inline-block;line-height: 1.2em;}#sk-container-id-4 div.sk-label-container {text-align: center;}#sk-container-id-4 div.sk-container {/* jupyter's `normalize.less` sets `[hidden] { display: none; }` but bootstrap.min.css set `[hidden] { display: none !important; }` so we also need the `!important` here to be able to override the default hidden behavior on the sphinx rendered scikit-learn.org. See: https://github.com/scikit-learn/scikit-learn/issues/21755 */display: inline-block !important;position: relative;}#sk-container-id-4 div.sk-text-repr-fallback {display: none;}</style><div id=\"sk-container-id-4\" class=\"sk-top-container\"><div class=\"sk-text-repr-fallback\"><pre>LinearRegression()</pre><b>In a Jupyter environment, please rerun this cell to show the HTML representation or trust the notebook. <br />On GitHub, the HTML representation is unable to render, please try loading this page with nbviewer.org.</b></div><div class=\"sk-container\" hidden><div class=\"sk-item\"><div class=\"sk-estimator sk-toggleable\"><input class=\"sk-toggleable__control sk-hidden--visually\" id=\"sk-estimator-id-4\" type=\"checkbox\" checked><label for=\"sk-estimator-id-4\" class=\"sk-toggleable__label sk-toggleable__label-arrow\">LinearRegression</label><div class=\"sk-toggleable__content\"><pre>LinearRegression()</pre></div></div></div></div></div>"
      ],
      "text/plain": [
       "LinearRegression()"
      ]
     },
     "execution_count": 39,
     "metadata": {},
     "output_type": "execute_result"
    }
   ],
   "source": [
    "from sklearn import linear_model\n",
    "regr = linear_model.LinearRegression()\n",
    "regr.fit(X, y)"
   ]
  },
  {
   "cell_type": "code",
   "execution_count": 40,
   "id": "18ab5371",
   "metadata": {},
   "outputs": [
    {
     "data": {
      "text/plain": [
       "array([12.74757246])"
      ]
     },
     "execution_count": 40,
     "metadata": {},
     "output_type": "execute_result"
    }
   ],
   "source": [
    "#predict the sales given the investment of Tv, newpaper and radio\n",
    "predictedsales = regr.predict([[50, 40, 20]])\n",
    "predictedsales"
   ]
  },
  {
   "cell_type": "markdown",
   "id": "5008c72f",
   "metadata": {},
   "source": [
    "# Coefficient\n",
    "The coefficient is a factor that describes the relationship with an unknown variable.\n",
    "\n",
    "Example: if x is a variable, then 2x is x two times. x is the unknown variable, and the number 2 is the coefficient.In this case, we can ask for the coefficient value of TV against Sales, for Newspaper against Sales, and for Radio against Sales. The answer(s) we get tells us what would happen if we increase, or decrease, one of the independent values."
   ]
  },
  {
   "cell_type": "code",
   "execution_count": 41,
   "id": "33ae83a6",
   "metadata": {},
   "outputs": [
    {
     "name": "stdout",
     "output_type": "stream",
     "text": [
      "[ 0.04576465  0.18853002 -0.00103749]\n"
     ]
    }
   ],
   "source": [
    "print(regr.coef_)"
   ]
  },
  {
   "cell_type": "markdown",
   "id": "61b9cef2",
   "metadata": {},
   "source": [
    "# Result Explained\n",
    "The result array represents the coefficient values of weight and volume.\n",
    "\n",
    "Tv: 0.04576465 \n",
    "Radio: 0.18853002\n",
    "Newspaper : -0.00103749\n",
    "\n",
    "These values tell us that if the tv increase by 1unit, the Sales increases by 0.04576465.\n",
    "\n",
    " if the Radio increases by 1 unit, the Sales  increases by 0.18853002.\n",
    " and  if the Newspaper increases by 1 unit, the Sales  decreases by 0.00103749\n",
    "\n"
   ]
  },
  {
   "cell_type": "code",
   "execution_count": null,
   "id": "05f81eac",
   "metadata": {},
   "outputs": [],
   "source": []
  },
  {
   "cell_type": "markdown",
   "id": "6c6c3a1f",
   "metadata": {},
   "source": [
    "# Scale Features\n",
    "\n",
    "When your data has different values, and even different measurement units, it can be difficult to compare them. What is kilograms compared to meters? Or altitude compared to time?\n",
    "\n",
    "The answer to this problem is scaling. We can scale data into new values that are easier to compare.\n",
    "\n",
    "There are different methods for scaling data, in this tutorial we will use a method called standardization.\n",
    "\n",
    "The standardization method uses this formula:\n",
    "\n",
    "z = (x - u) / s\n",
    "\n"
   ]
  },
  {
   "cell_type": "code",
   "execution_count": 44,
   "id": "bd647aba",
   "metadata": {},
   "outputs": [
    {
     "data": {
      "text/html": [
       "<div>\n",
       "<style scoped>\n",
       "    .dataframe tbody tr th:only-of-type {\n",
       "        vertical-align: middle;\n",
       "    }\n",
       "\n",
       "    .dataframe tbody tr th {\n",
       "        vertical-align: top;\n",
       "    }\n",
       "\n",
       "    .dataframe thead th {\n",
       "        text-align: right;\n",
       "    }\n",
       "</style>\n",
       "<table border=\"1\" class=\"dataframe\">\n",
       "  <thead>\n",
       "    <tr style=\"text-align: right;\">\n",
       "      <th></th>\n",
       "      <th>TV</th>\n",
       "      <th>Radio</th>\n",
       "      <th>Newspaper</th>\n",
       "      <th>Sales</th>\n",
       "    </tr>\n",
       "  </thead>\n",
       "  <tbody>\n",
       "    <tr>\n",
       "      <th>1</th>\n",
       "      <td>230.1</td>\n",
       "      <td>37.8</td>\n",
       "      <td>69.2</td>\n",
       "      <td>22.1</td>\n",
       "    </tr>\n",
       "    <tr>\n",
       "      <th>2</th>\n",
       "      <td>44.5</td>\n",
       "      <td>39.3</td>\n",
       "      <td>45.1</td>\n",
       "      <td>10.4</td>\n",
       "    </tr>\n",
       "    <tr>\n",
       "      <th>3</th>\n",
       "      <td>17.2</td>\n",
       "      <td>45.9</td>\n",
       "      <td>69.3</td>\n",
       "      <td>9.3</td>\n",
       "    </tr>\n",
       "    <tr>\n",
       "      <th>4</th>\n",
       "      <td>151.5</td>\n",
       "      <td>41.3</td>\n",
       "      <td>58.5</td>\n",
       "      <td>18.5</td>\n",
       "    </tr>\n",
       "    <tr>\n",
       "      <th>5</th>\n",
       "      <td>180.8</td>\n",
       "      <td>10.8</td>\n",
       "      <td>58.4</td>\n",
       "      <td>12.9</td>\n",
       "    </tr>\n",
       "  </tbody>\n",
       "</table>\n",
       "</div>"
      ],
      "text/plain": [
       "      TV  Radio  Newspaper  Sales\n",
       "1  230.1   37.8       69.2   22.1\n",
       "2   44.5   39.3       45.1   10.4\n",
       "3   17.2   45.9       69.3    9.3\n",
       "4  151.5   41.3       58.5   18.5\n",
       "5  180.8   10.8       58.4   12.9"
      ]
     },
     "execution_count": 44,
     "metadata": {},
     "output_type": "execute_result"
    }
   ],
   "source": [
    "df.head()"
   ]
  },
  {
   "cell_type": "code",
   "execution_count": 47,
   "id": "fb451317",
   "metadata": {},
   "outputs": [
    {
     "name": "stdout",
     "output_type": "stream",
     "text": [
      "[[ 9.69852266e-01  9.81522472e-01  1.77894547e+00]\n",
      " [-1.19737623e+00  1.08280781e+00  6.69578760e-01]\n",
      " [-1.51615499e+00  1.52846331e+00  1.78354865e+00]\n",
      " [ 5.20496822e-02  1.21785493e+00  1.28640506e+00]\n",
      " [ 3.94182198e-01 -8.41613655e-01  1.28180188e+00]\n",
      " [-1.61540845e+00  1.73103399e+00  2.04592999e+00]\n",
      " [-1.04557682e+00  6.43904671e-01 -3.24708413e-01]\n",
      " [-3.13436589e-01 -2.47406325e-01 -8.72486994e-01]\n",
      " [-1.61657614e+00 -1.42906863e+00 -1.36042422e+00]\n",
      " [ 6.16042873e-01 -1.39530685e+00 -4.30581584e-01]\n",
      " [-9.45155670e-01 -1.17923146e+00 -2.92486143e-01]\n",
      " [ 7.90028350e-01  4.96973404e-02 -1.22232878e+00]\n",
      " [-1.43908760e+00  7.99208859e-01  1.62704048e+00]\n",
      " [-5.78501712e-01 -1.05768905e+00 -1.07502697e+00]\n",
      " [ 6.66253447e-01  6.50657027e-01  7.11007392e-01]\n",
      " [ 5.64664612e-01  1.65000572e+00  1.02862691e+00]\n",
      " [-9.25304978e-01  9.00494200e-01  3.84117072e+00]\n",
      " [ 1.56887609e+00  1.10306488e+00  1.16211917e+00]\n",
      " [-9.08957349e-01 -1.86635121e-01 -5.64073843e-01]\n",
      " [ 3.00679600e-03  4.29449843e-02 -5.27248393e-01]\n",
      " [ 8.33232798e-01  2.99534513e-01  1.05164281e+00]\n",
      " [ 1.05509347e+00 -1.22649795e+00 -3.24708413e-01]\n",
      " [-1.56286250e+00 -4.97243498e-01  8.76721921e-01]\n",
      " [ 9.48833887e-01 -4.29719938e-01 -2.00422516e-01]\n",
      " [-9.89527805e-01 -7.20071247e-01 -5.64073843e-01]\n",
      " [ 1.35285385e+00 -1.33453565e+00 -5.08835667e-01]\n",
      " [-4.83714657e-02  4.07572210e-01 -8.26455181e-01]\n",
      " [ 1.08662104e+00 -4.43224650e-01 -3.52327501e-01]\n",
      " [ 1.18820988e+00  2.59020377e-01 -3.52327501e-01]\n",
      " [-8.92609721e-01 -4.90491142e-01  4.71641962e-01]\n",
      " [ 1.70316018e+00  3.40048650e-01  5.82118314e-01]\n",
      " [-3.98677796e-01 -3.95958157e-01  3.70371972e-01]\n",
      " [-5.82004775e-01 -1.46958277e+00 -2.55016247e-02]\n",
      " [ 1.38438142e+00 -2.20396901e-01 -1.39264649e+00]\n",
      " [-5.99520091e-01 -1.47633512e+00 -1.06582061e+00]\n",
      " [ 1.67747105e+00 -1.29402151e+00 -1.01518562e+00]\n",
      " [ 1.39956136e+00  1.38666383e+00 -1.17629696e+00]\n",
      " [-8.44734522e-01  1.76479577e+00  6.97197848e-01]\n",
      " [-1.21372386e+00  2.32010953e-01  2.09260624e-01]\n",
      " [ 9.45330823e-01  9.74770116e-01  6.65620024e-02]\n",
      " [ 6.47570443e-01 -6.50927121e-02  4.81492770e-02]\n",
      " [ 3.49810063e-01  6.84418807e-01  3.74975153e-01]\n",
      " [ 1.71133400e+00  2.99534513e-01 -1.32359877e+00]\n",
      " [ 6.98948705e-01 -1.00367020e+00 -1.91216154e-01]\n",
      " [-1.42390765e+00  1.64487393e-01  5.86721496e-01]\n",
      " [ 3.27623995e-01 -5.15880000e-02  4.35460956e-02]\n",
      " [-6.69581357e-01 -9.02384859e-01  2.36879713e-01]\n",
      " [ 1.08428567e+00  1.23135965e+00 -5.54867481e-01]\n",
      " [ 9.35989321e-01 -5.03995854e-01  8.90531465e-01]\n",
      " [-9.35814168e-01 -7.80842451e-01  2.87514708e-01]\n",
      " [ 6.16042873e-01 -1.36154507e+00  1.86244718e-01]\n",
      " [-5.44638766e-01 -9.22641928e-01 -1.24074150e+00]\n",
      " [ 8.09879042e-01  1.24486436e+00  4.16403786e-01]\n",
      " [ 4.15200577e-01  1.54872038e+00  1.29561142e+00]\n",
      " [ 1.35051848e+00  3.73810430e-01 -6.74550196e-01]\n",
      " [ 6.05533683e-01  1.76479577e+00  1.35545278e+00]\n",
      " [-1.63175608e+00  3.26543937e-01  4.99261050e-01]\n",
      " [-1.26606546e-01 -2.74415749e-01 -6.42327927e-01]\n",
      " [ 7.44488528e-01  1.77830048e+00  3.28943340e-01]\n",
      " [ 7.43320840e-01  4.21076922e-01 -9.78360166e-01]\n",
      " [-1.09228433e+00 -1.43582099e+00 -4.21375221e-01]\n",
      " [ 1.33417085e+00  1.31238792e+00  1.11148417e+00]\n",
      " [ 1.07727954e+00 -5.24252922e-01 -1.49787521e-01]\n",
      " [-5.17781948e-01  4.27829278e-01 -1.01978880e+00]\n",
      " [-1.86158622e-01  1.31914027e+00 -7.61366196e-02]\n",
      " [-9.11292725e-01 -9.42898996e-01 -1.36502740e+00]\n",
      " [-1.34917564e+00  9.02114765e-02 -1.30518604e+00]\n",
      " [-9.04082253e-02 -5.91776482e-01 -9.36931533e-01]\n",
      " [ 1.05509347e+00  2.86029801e-01 -9.00106083e-01]\n",
      " [ 8.14549794e-01  1.39341619e+00 -1.54390703e-01]\n",
      " [ 6.07869059e-01  4.95352838e-01  3.74975153e-01]\n",
      " [-4.34876116e-01 -6.05281194e-01  5.27524584e-02]\n",
      " [-1.40405696e+00  6.57409383e-01 -5.18042030e-01]\n",
      " [-2.06009314e-01 -1.18598381e+00  3.43397329e-02]\n",
      " [ 7.74848409e-01  9.02114765e-02 -8.03439274e-01]\n",
      " [-1.51965805e+00  1.37991148e+00  2.70878810e+00]\n",
      " [-1.39588315e+00 -1.46283041e+00 -4.53597491e-01]\n",
      " [-3.09933525e-01  3.53553362e-01 -7.52804279e-01]\n",
      " [-1.65394214e+00  4.48086346e-01 -9.73756984e-01]\n",
      " [-3.62479475e-01 -1.05093669e+00 -3.43121138e-01]\n",
      " [-8.24883830e-01  2.32010953e-01 -3.79946589e-01]\n",
      " [ 1.08311798e+00 -1.29402151e+00  2.92117889e-01]\n",
      " [-8.37728396e-01 -2.00139833e-01  8.95779092e-02]\n",
      " [-9.18298852e-01  1.43393033e+00  2.32276531e-01]\n",
      " [ 7.76016097e-01  1.33264499e+00  1.49419267e-01]\n",
      " [ 5.38975481e-01 -3.28434597e-01  1.61783412e+00]\n",
      " [-8.26051518e-01  2.86029801e-01 -6.69947015e-01]\n",
      " [-4.24366926e-01  1.17058844e+00  1.50275459e+00]\n",
      " [-6.85928986e-01  1.50982681e-01  1.97227908e+00]\n",
      " [-4.34876116e-01  1.65675807e+00  9.59579186e-01]\n",
      " [-1.48792614e-01 -1.24000266e+00 -9.78360166e-01]\n",
      " [-1.38303858e+00 -1.46958277e+00  1.12593816e-01]\n",
      " [ 8.25058983e-01  6.91171163e-01  1.30942097e+00]\n",
      " [ 1.21273132e+00  8.93741844e-01  1.92164409e+00]\n",
      " [-4.62900623e-01 -6.25538262e-01 -9.04709264e-01]\n",
      " [ 1.89836839e-01  5.62876398e-01  1.02862691e+00]\n",
      " [ 5.90353742e-01 -1.33453565e+00 -1.13486833e+00]\n",
      " [ 4.42057396e-01 -1.52873340e-01 -3.93756133e-01]\n",
      " [ 1.66579418e+00  1.28537849e+00  9.50372823e-01]\n",
      " [-1.38283424e-01  1.24486436e+00  7.06404211e-01]\n",
      " [ 8.79940308e-01 -1.28051680e+00  8.85928284e-01]\n",
      " [ 1.74402926e+00  8.80237132e-01  3.23815396e+00]\n",
      " [ 1.55486384e+00 -8.88880147e-01 -4.21375221e-01]\n",
      " [ 4.77088029e-01 -4.09462869e-01 -5.82486569e-01]\n",
      " [ 1.06443498e+00  7.45190011e-01 -1.16248742e+00]\n",
      " [-1.06755854e-01  1.56222509e+00  1.30942097e+00]\n",
      " [-1.42507534e+00 -8.28108943e-01 -3.93111688e-02]\n",
      " [-6.61407543e-01 -1.55061104e+00 -3.38517957e-01]\n",
      " [-1.56403019e+00 -1.54385868e+00 -2.28041604e-01]\n",
      " [ 1.26527727e+00  2.45515665e-01 -1.15328106e+00]\n",
      " [ 9.19641692e-01 -1.01717491e+00  1.19434143e+00]\n",
      " [ 1.10530405e+00  9.95027184e-01 -3.38517957e-01]\n",
      " [ 3.34630122e-01 -5.31005278e-01 -1.29597968e+00]\n",
      " [ 7.30476274e-01 -1.79882765e-01 -9.13915627e-01]\n",
      " [-8.03865450e-01  1.58923451e+00  1.81641536e-01]\n",
      " [-8.40063771e-01  7.92456503e-01  1.01942054e+00]\n",
      " [-9.15759131e-02 -6.05281194e-01 -2.28041604e-01]\n",
      " [-8.24883830e-01 -1.51684926e+00 -7.25185191e-01]\n",
      " [-2.49213762e-01  9.20751268e-01  2.23926360e+00]\n",
      " [-1.49046586e+00 -4.90491142e-01 -3.79946589e-01]\n",
      " [-6.70544700e-02  2.38763309e-01  7.20213755e-01]\n",
      " [-1.49747198e+00 -1.05606848e-01  9.13547372e-01]\n",
      " [ 8.98623313e-01 -1.40881156e+00 -6.88359740e-01]\n",
      " [-2.79573643e-01  7.65447079e-01 -8.35661544e-01]\n",
      " [ 9.62846140e-01  6.10142891e-01  2.00910454e+00]\n",
      " [-6.98773552e-01 -7.74090095e-01 -2.14232060e-01]\n",
      " [-1.62591764e+00  1.05579839e+00  9.22753735e-01]\n",
      " [-7.80511695e-01 -1.57086811e+00 -9.82963347e-01]\n",
      " [ 8.55418865e-01  1.73778635e+00 -1.25915423e+00]\n",
      " [-1.02105537e+00 -7.60585383e-01  5.77515133e-01]\n",
      " [-1.70882347e+00  1.10306488e+00 -1.00597925e+00]\n",
      " [ 1.37971067e+00 -1.37504978e+00  5.72911952e-01]\n",
      " [-1.61891151e+00  2.65772733e-01 -1.30978922e+00]\n",
      " [ 8.49580427e-01  6.91171163e-01  6.69578760e-01]\n",
      " [-1.28612050e+00  1.03554132e+00  1.61323094e+00]\n",
      " [-1.15300409e+00  1.60273923e+00 -1.01518562e+00]\n",
      " [-1.41806922e+00  1.06255074e+00 -9.78360166e-01]\n",
      " [ 1.47896413e+00  3.80562786e-01  1.34164324e+00]\n",
      " [-1.21489154e+00  1.77992105e-01 -4.62803854e-01]\n",
      " [ 4.42057396e-01  1.39341619e+00 -1.32820195e+00]\n",
      " [-8.59914463e-01 -4.22967582e-01 -8.12645637e-01]\n",
      " [ 5.44813920e-01  8.19465927e-01  2.07354907e+00]\n",
      " [ 8.57754241e-01  6.70914095e-01  3.38149702e-01]\n",
      " [-4.95595880e-01 -1.18598381e+00  1.77038355e-01]\n",
      " [-5.93681653e-01 -5.71519414e-01  3.84181516e-01]\n",
      " [-7.87313476e-02 -1.44257334e+00 -9.92169710e-01]\n",
      " [ 1.08662104e+00 -1.07794612e+00 -1.00597925e+00]\n",
      " [ 1.12281936e+00  1.73778635e+00  6.32753309e-01]\n",
      " [-1.27327593e+00  1.15033137e+00 -8.58677450e-01]\n",
      " [-1.19504085e+00  1.71239749e-01 -4.58200672e-01]\n",
      " [ 1.56070228e+00 -6.32290618e-01  2.96721070e-01]\n",
      " [-3.04095087e-01 -1.00367020e+00  8.35293289e-01]\n",
      " [ 5.90353742e-01  2.43084817e-03 -7.52804279e-01]\n",
      " [ 2.83251860e-01  1.10981724e+00  3.28943340e-01]\n",
      " [ 4.75920341e-01 -1.46120984e-01 -9.69153803e-01]\n",
      " [-1.66912209e+00 -7.87594807e-01 -1.14407469e+00]\n",
      " [-6.20538471e-01  1.36640677e+00  9.18150553e-01]\n",
      " [ 3.21989902e-02 -1.48308748e+00 -2.87882962e-01]\n",
      " [-1.58037782e+00  9.20751268e-01  6.74181942e-01]\n",
      " [-1.79152496e-01 -3.28434597e-01  1.86244718e-01]\n",
      " [ 2.97264113e-01 -3.48691665e-01  6.72064478e-03]\n",
      " [-7.16288868e-01  8.46475352e-01  8.62912377e-01]\n",
      " [ 4.82926468e-01 -3.48691665e-01 -2.28041604e-01]\n",
      " [ 1.92172214e-01  9.13998912e-01 -1.06582061e+00]\n",
      " [-3.48467222e-01 -5.78271770e-01 -1.15788424e+00]\n",
      " [ 1.02123053e+00 -1.34128800e+00  2.49704176e+00]\n",
      " [-1.50798117e+00  9.68017760e-01 -4.12168859e-01]\n",
      " [ 6.97781017e-01 -1.21974559e+00 -5.13438849e-01]\n",
      " [ 7.98202165e-01  2.26879163e-02  1.24497643e+00]\n",
      " [ 1.60273904e+00 -8.55118367e-01 -1.11185242e+00]\n",
      " [-1.13315340e+00 -7.87594807e-01 -5.59470662e-01]\n",
      " [ 2.03849092e-01 -1.59625696e-01  7.75451931e-01]\n",
      " [-1.48813048e+00 -2.13644545e-01 -6.23915201e-01]\n",
      " [ 2.49388915e-01 -1.09145083e+00 -8.17248818e-01]\n",
      " [ 8.79940308e-01 -1.34128800e+00 -8.03439274e-01]\n",
      " [ 1.51633014e+00  1.73103399e+00  5.17673775e-01]\n",
      " [ 1.18353913e+00  4.68343414e-01 -4.72010216e-01]\n",
      " [ 2.70407294e-01 -1.04418434e+00  2.13863806e-01]\n",
      " [ 1.51399477e+00 -1.41556392e+00 -3.15502050e-01]\n",
      " [ 2.16693657e-01 -8.95632503e-01 -5.96296113e-01]\n",
      " [ 1.11601758e-01 -1.39530685e+00 -1.02439198e+00]\n",
      " [ 8.34400486e-01 -1.20624088e+00 -1.45184340e-01]\n",
      " [-1.06075676e+00 -1.18598381e+00 -3.93111688e-02]\n",
      " [ 1.64127273e+00  1.33264499e+00  1.89862818e+00]\n",
      " [ 1.24659427e+00 -1.32616272e-01 -2.55016247e-02]\n",
      " [ 6.76762637e-01  1.47444446e+00 -5.04232486e-01]\n",
      " [-8.80728498e-02 -1.42906863e+00 -1.82009791e-01]\n",
      " [ 5.14454038e-01  3.67058074e-01 -5.68677025e-01]\n",
      " [ 1.62258973e+00 -6.32290618e-01 -1.23613832e+00]\n",
      " [-1.49863967e+00 -7.53833027e-01 -3.29311594e-01]\n",
      " [-1.25576062e+00  1.20435022e+00 -1.13947151e+00]\n",
      " [-8.35393020e-01 -8.41613655e-01 -1.13026515e+00]\n",
      " [-1.51615499e+00 -1.29402151e+00  4.81492770e-02]\n",
      " [ 2.30705910e-01  1.26512143e+00 -1.24074150e+00]\n",
      " [ 3.10313024e-02  8.32970639e-01 -1.13026515e+00]\n",
      " [-1.27094056e+00 -1.32103093e+00 -7.71217005e-01]\n",
      " [-6.17035408e-01 -1.24000266e+00 -1.03359834e+00]\n",
      " [ 3.49810063e-01 -9.42898996e-01 -1.11185242e+00]\n",
      " [ 1.59456522e+00  1.26512143e+00  1.64085003e+00]\n",
      " [ 9.93206022e-01 -9.90165488e-01 -1.00597925e+00]]\n"
     ]
    }
   ],
   "source": [
    "\n",
    "from sklearn import linear_model\n",
    "from sklearn.preprocessing import StandardScaler\n",
    "scale = StandardScaler()\n",
    "\n",
    "\n",
    "X = df[['TV', 'Radio', 'Newspaper']].values\n",
    "\n",
    "scaledX = scale.fit_transform(X)\n",
    "\n",
    "print(scaledX)"
   ]
  },
  {
   "cell_type": "code",
   "execution_count": 48,
   "id": "ed63c667",
   "metadata": {},
   "outputs": [
    {
     "name": "stdout",
     "output_type": "stream",
     "text": [
      "[12.74757246]\n"
     ]
    }
   ],
   "source": [
    "scaledX = scale.fit_transform(X)\n",
    "\n",
    "regr = linear_model.LinearRegression()\n",
    "regr.fit(scaledX, y)\n",
    " # make prediction\n",
    "scaled = scale.transform([[50, 40, 20]])\n",
    "\n",
    "predictedsales = regr.predict([scaled[0]])\n",
    "print(predictedsales)"
   ]
  },
  {
   "cell_type": "markdown",
   "id": "e9bd6213",
   "metadata": {},
   "source": [
    "# Machine Learning - Train/Test"
   ]
  },
  {
   "cell_type": "markdown",
   "id": "fc71dc4b",
   "metadata": {},
   "source": [
    "# Evaluate Your Model\n",
    "\n",
    "In Machine Learning we create models to predict the outcome of certain events, like in the previous chapter where we predicted the CO2 emission of a car when we knew the weight and engine size.\n",
    "\n",
    "To measure if the model is good enough, we can use a method called Train/Test.\n",
    "\n",
    "Train/Test is a method to measure the accuracy of your model.\n",
    "\n",
    "It is called Train/Test because you split the data set into two sets: a training set and a testing set.\n",
    "\n",
    "80% for training, and 20% for testing.\n",
    "\n",
    "You train the model using the training set.\n",
    "\n",
    "You test the model using the testing set.\n",
    "\n",
    "Train the model means create the model.\n",
    "\n",
    "Test the model means test the accuracy of the model."
   ]
  },
  {
   "cell_type": "markdown",
   "id": "98c9cbad",
   "metadata": {},
   "source": [
    "# Machine Learning - Decision Tree"
   ]
  },
  {
   "cell_type": "markdown",
   "id": "c8b81a46",
   "metadata": {},
   "source": [
    "Decision Tree\n",
    "In this chapter we will show you how to make a \"Decision Tree\". A Decision Tree is a Flow Chart, and can help you make decisions based on previous experience.\n",
    "\n",
    "In the example, a person will try to decide if he/she should go to a comedy show or not.\n",
    "\n",
    "Luckily our example person has registered every time there was a comedy show in town, and registered some information about the comedian, and also registered if he/she went or not."
   ]
  },
  {
   "cell_type": "code",
   "execution_count": 84,
   "id": "c2b9d6b5",
   "metadata": {},
   "outputs": [
    {
     "data": {
      "text/html": [
       "<div>\n",
       "<style scoped>\n",
       "    .dataframe tbody tr th:only-of-type {\n",
       "        vertical-align: middle;\n",
       "    }\n",
       "\n",
       "    .dataframe tbody tr th {\n",
       "        vertical-align: top;\n",
       "    }\n",
       "\n",
       "    .dataframe thead th {\n",
       "        text-align: right;\n",
       "    }\n",
       "</style>\n",
       "<table border=\"1\" class=\"dataframe\">\n",
       "  <thead>\n",
       "    <tr style=\"text-align: right;\">\n",
       "      <th></th>\n",
       "      <th>Age</th>\n",
       "      <th>Experience</th>\n",
       "      <th>Rank</th>\n",
       "      <th>Nationality</th>\n",
       "      <th>Go</th>\n",
       "    </tr>\n",
       "  </thead>\n",
       "  <tbody>\n",
       "    <tr>\n",
       "      <th>0</th>\n",
       "      <td>36</td>\n",
       "      <td>10</td>\n",
       "      <td>9</td>\n",
       "      <td>UK</td>\n",
       "      <td>NO</td>\n",
       "    </tr>\n",
       "    <tr>\n",
       "      <th>1</th>\n",
       "      <td>42</td>\n",
       "      <td>12</td>\n",
       "      <td>4</td>\n",
       "      <td>USA</td>\n",
       "      <td>NO</td>\n",
       "    </tr>\n",
       "    <tr>\n",
       "      <th>2</th>\n",
       "      <td>23</td>\n",
       "      <td>4</td>\n",
       "      <td>6</td>\n",
       "      <td>N</td>\n",
       "      <td>NO</td>\n",
       "    </tr>\n",
       "    <tr>\n",
       "      <th>3</th>\n",
       "      <td>52</td>\n",
       "      <td>4</td>\n",
       "      <td>4</td>\n",
       "      <td>USA</td>\n",
       "      <td>NO</td>\n",
       "    </tr>\n",
       "    <tr>\n",
       "      <th>4</th>\n",
       "      <td>43</td>\n",
       "      <td>21</td>\n",
       "      <td>8</td>\n",
       "      <td>USA</td>\n",
       "      <td>YES</td>\n",
       "    </tr>\n",
       "  </tbody>\n",
       "</table>\n",
       "</div>"
      ],
      "text/plain": [
       "   Age  Experience  Rank Nationality   Go\n",
       "0   36          10     9          UK   NO\n",
       "1   42          12     4         USA   NO\n",
       "2   23           4     6           N   NO\n",
       "3   52           4     4         USA   NO\n",
       "4   43          21     8         USA  YES"
      ]
     },
     "execution_count": 84,
     "metadata": {},
     "output_type": "execute_result"
    }
   ],
   "source": [
    "show = pd.read_csv(\"Shows.csv\")\n",
    "show.head()"
   ]
  },
  {
   "cell_type": "code",
   "execution_count": 85,
   "id": "41a294d8",
   "metadata": {},
   "outputs": [
    {
     "data": {
      "image/png": "[encoded data removed]",
      "text/plain": [
       "<Figure size 2500x1000 with 3 Axes>"
      ]
     },
     "metadata": {},
     "output_type": "display_data"
    }
   ],
   "source": [
    "msno.bar(show)\n",
    "plt.title('bar chart for missing values', fontsize=30, fontweight='bold')\n",
    "plt.show()"
   ]
  },
  {
   "cell_type": "code",
   "execution_count": 86,
   "id": "14ca5743",
   "metadata": {},
   "outputs": [
    {
     "data": {
      "text/plain": [
       "Age            0\n",
       "Experience     0\n",
       "Rank           0\n",
       "Nationality    0\n",
       "Go             0\n",
       "dtype: int64"
      ]
     },
     "execution_count": 86,
     "metadata": {},
     "output_type": "execute_result"
    }
   ],
   "source": [
    "show.isna().sum()"
   ]
  },
  {
   "cell_type": "code",
   "execution_count": 87,
   "id": "b852714c",
   "metadata": {},
   "outputs": [
    {
     "data": {
      "text/plain": [
       "array(['UK', 'USA', 'N'], dtype=object)"
      ]
     },
     "execution_count": 87,
     "metadata": {},
     "output_type": "execute_result"
    }
   ],
   "source": [
    "show[\"Nationality\"].unique()"
   ]
  },
  {
   "cell_type": "code",
   "execution_count": 88,
   "id": "ef8aee9f",
   "metadata": {},
   "outputs": [
    {
     "data": {
      "text/plain": [
       "array(['NO', 'YES'], dtype=object)"
      ]
     },
     "execution_count": 88,
     "metadata": {},
     "output_type": "execute_result"
    }
   ],
   "source": [
    "show[\"Go\"].unique()"
   ]
  },
  {
   "cell_type": "code",
   "execution_count": 89,
   "id": "dbb727f6",
   "metadata": {},
   "outputs": [
    {
     "data": {
      "text/html": [
       "<div>\n",
       "<style scoped>\n",
       "    .dataframe tbody tr th:only-of-type {\n",
       "        vertical-align: middle;\n",
       "    }\n",
       "\n",
       "    .dataframe tbody tr th {\n",
       "        vertical-align: top;\n",
       "    }\n",
       "\n",
       "    .dataframe thead th {\n",
       "        text-align: right;\n",
       "    }\n",
       "</style>\n",
       "<table border=\"1\" class=\"dataframe\">\n",
       "  <thead>\n",
       "    <tr style=\"text-align: right;\">\n",
       "      <th></th>\n",
       "      <th>Age</th>\n",
       "      <th>Experience</th>\n",
       "      <th>Rank</th>\n",
       "      <th>Nationality</th>\n",
       "      <th>Go</th>\n",
       "    </tr>\n",
       "  </thead>\n",
       "  <tbody>\n",
       "    <tr>\n",
       "      <th>0</th>\n",
       "      <td>36</td>\n",
       "      <td>10</td>\n",
       "      <td>9</td>\n",
       "      <td>0</td>\n",
       "      <td>0</td>\n",
       "    </tr>\n",
       "    <tr>\n",
       "      <th>1</th>\n",
       "      <td>42</td>\n",
       "      <td>12</td>\n",
       "      <td>4</td>\n",
       "      <td>1</td>\n",
       "      <td>0</td>\n",
       "    </tr>\n",
       "    <tr>\n",
       "      <th>2</th>\n",
       "      <td>23</td>\n",
       "      <td>4</td>\n",
       "      <td>6</td>\n",
       "      <td>2</td>\n",
       "      <td>0</td>\n",
       "    </tr>\n",
       "    <tr>\n",
       "      <th>3</th>\n",
       "      <td>52</td>\n",
       "      <td>4</td>\n",
       "      <td>4</td>\n",
       "      <td>1</td>\n",
       "      <td>0</td>\n",
       "    </tr>\n",
       "    <tr>\n",
       "      <th>4</th>\n",
       "      <td>43</td>\n",
       "      <td>21</td>\n",
       "      <td>8</td>\n",
       "      <td>1</td>\n",
       "      <td>1</td>\n",
       "    </tr>\n",
       "  </tbody>\n",
       "</table>\n",
       "</div>"
      ],
      "text/plain": [
       "   Age  Experience  Rank  Nationality  Go\n",
       "0   36          10     9            0   0\n",
       "1   42          12     4            1   0\n",
       "2   23           4     6            2   0\n",
       "3   52           4     4            1   0\n",
       "4   43          21     8            1   1"
      ]
     },
     "execution_count": 89,
     "metadata": {},
     "output_type": "execute_result"
    }
   ],
   "source": [
    "# Change string values into numerical values:\n",
    "\n",
    "d = {'UK': 0, 'USA': 1, 'N': 2}\n",
    "show['Nationality'] = show['Nationality'].map(d)\n",
    "d = {'YES': 1, 'NO': 0}\n",
    "show['Go'] = show['Go'].map(d)\n",
    "\n",
    "show.head()"
   ]
  },
  {
   "cell_type": "code",
   "execution_count": 95,
   "id": "528f58ed",
   "metadata": {},
   "outputs": [],
   "source": [
    "# X is the feature columns, y is the target column:\n",
    "\n",
    "features = ['Age', 'Experience', 'Rank', 'Nationality']\n",
    "\n",
    "X = show[features].values\n",
    "y = show['Go'].values\n",
    "\n",
    "#X.head()\n",
    "\n",
    "\n"
   ]
  },
  {
   "cell_type": "code",
   "execution_count": 96,
   "id": "317de33c",
   "metadata": {},
   "outputs": [
    {
     "data": {
      "text/plain": [
       "[Text(0.4, 0.875, 'Rank <= 6.5\\ngini = 0.497\\nsamples = 13\\nvalue = [6, 7]'),\n",
       " Text(0.2, 0.625, 'gini = 0.0\\nsamples = 5\\nvalue = [5, 0]'),\n",
       " Text(0.6, 0.625, 'Age <= 39.5\\ngini = 0.219\\nsamples = 8\\nvalue = [1, 7]'),\n",
       " Text(0.4, 0.375, 'Age <= 35.5\\ngini = 0.375\\nsamples = 4\\nvalue = [1, 3]'),\n",
       " Text(0.2, 0.125, 'gini = 0.0\\nsamples = 3\\nvalue = [0, 3]'),\n",
       " Text(0.6, 0.125, 'gini = 0.0\\nsamples = 1\\nvalue = [1, 0]'),\n",
       " Text(0.8, 0.375, 'gini = 0.0\\nsamples = 4\\nvalue = [0, 4]')]"
      ]
     },
     "execution_count": 96,
     "metadata": {},
     "output_type": "execute_result"
    },
    {
     "data": {
      "image/png": "[encoded data removed]",
      "text/plain": [
       "<Figure size 640x480 with 1 Axes>"
      ]
     },
     "metadata": {},
     "output_type": "display_data"
    }
   ],
   "source": [
    "from sklearn import tree\n",
    "from sklearn.tree import DecisionTreeClassifier\n",
    "import matplotlib.pyplot as plt\n",
    "\n",
    "\n",
    "\n",
    "\n",
    "\n",
    "dtree = DecisionTreeClassifier()\n",
    "dtree = dtree.fit(X, y)\n",
    "\n",
    "tree.plot_tree(dtree, feature_names=features)"
   ]
  },
  {
   "cell_type": "code",
   "execution_count": 101,
   "id": "0c9b4162",
   "metadata": {},
   "outputs": [
    {
     "name": "stdout",
     "output_type": "stream",
     "text": [
      "[1]\n"
     ]
    }
   ],
   "source": [
    "print(dtree.predict([[40, 10, 7, 1]]))"
   ]
  },
  {
   "cell_type": "code",
   "execution_count": 100,
   "id": "941a2d13",
   "metadata": {},
   "outputs": [
    {
     "name": "stdout",
     "output_type": "stream",
     "text": [
      "[0]\n"
     ]
    }
   ],
   "source": [
    "print(dtree.predict([[39, 10, 7, 1]]))"
   ]
  },
  {
   "cell_type": "code",
   "execution_count": null,
   "id": "49571021",
   "metadata": {},
   "outputs": [],
   "source": []
  }
 ],
 "metadata": {
  "kernelspec": {
   "display_name": "Python 3 (ipykernel)",
   "language": "python",
   "name": "python3"
  },
  "language_info": {
   "codemirror_mode": {
    "name": "ipython",
    "version": 3
   },
   "file_extension": ".py",
   "mimetype": "text/x-python",
   "name": "python",
   "nbconvert_exporter": "python",
   "pygments_lexer": "ipython3",
   "version": "3.11.3"
  }
 },
 "nbformat": 4,
 "nbformat_minor": 5
}
