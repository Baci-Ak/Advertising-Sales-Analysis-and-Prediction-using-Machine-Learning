{
 "cells": [
  {
   "cell_type": "code",
   "execution_count": null,
   "id": "6921c0f6",
   "metadata": {},
   "outputs": [],
   "source": []
  },
  {
   "cell_type": "code",
   "execution_count": null,
   "id": "dc88580e",
   "metadata": {},
   "outputs": [],
   "source": []
  },
  {
   "cell_type": "code",
   "execution_count": null,
   "id": "e0978e45",
   "metadata": {},
   "outputs": [],
   "source": []
  },
  {
   "cell_type": "code",
   "execution_count": 32,
   "id": "840cc4ea",
   "metadata": {},
   "outputs": [
    {
     "data": {
      "text/html": [
       "<div>\n",
       "<style scoped>\n",
       "    .dataframe tbody tr th:only-of-type {\n",
       "        vertical-align: middle;\n",
       "    }\n",
       "\n",
       "    .dataframe tbody tr th {\n",
       "        vertical-align: top;\n",
       "    }\n",
       "\n",
       "    .dataframe thead th {\n",
       "        text-align: right;\n",
       "    }\n",
       "</style>\n",
       "<table border=\"1\" class=\"dataframe\">\n",
       "  <thead>\n",
       "    <tr style=\"text-align: right;\">\n",
       "      <th></th>\n",
       "      <th>TV</th>\n",
       "      <th>Radio</th>\n",
       "      <th>Newspaper</th>\n",
       "      <th>Sales</th>\n",
       "    </tr>\n",
       "  </thead>\n",
       "  <tbody>\n",
       "    <tr>\n",
       "      <th>1</th>\n",
       "      <td>230.1</td>\n",
       "      <td>37.8</td>\n",
       "      <td>69.2</td>\n",
       "      <td>22.1</td>\n",
       "    </tr>\n",
       "    <tr>\n",
       "      <th>2</th>\n",
       "      <td>44.5</td>\n",
       "      <td>39.3</td>\n",
       "      <td>45.1</td>\n",
       "      <td>10.4</td>\n",
       "    </tr>\n",
       "    <tr>\n",
       "      <th>3</th>\n",
       "      <td>17.2</td>\n",
       "      <td>45.9</td>\n",
       "      <td>69.3</td>\n",
       "      <td>9.3</td>\n",
       "    </tr>\n",
       "    <tr>\n",
       "      <th>4</th>\n",
       "      <td>151.5</td>\n",
       "      <td>41.3</td>\n",
       "      <td>58.5</td>\n",
       "      <td>18.5</td>\n",
       "    </tr>\n",
       "    <tr>\n",
       "      <th>5</th>\n",
       "      <td>180.8</td>\n",
       "      <td>10.8</td>\n",
       "      <td>58.4</td>\n",
       "      <td>12.9</td>\n",
       "    </tr>\n",
       "  </tbody>\n",
       "</table>\n",
       "</div>"
      ],
      "text/plain": [
       "      TV  Radio  Newspaper  Sales\n",
       "1  230.1   37.8       69.2   22.1\n",
       "2   44.5   39.3       45.1   10.4\n",
       "3   17.2   45.9       69.3    9.3\n",
       "4  151.5   41.3       58.5   18.5\n",
       "5  180.8   10.8       58.4   12.9"
      ]
     },
     "execution_count": 32,
     "metadata": {},
     "output_type": "execute_result"
    }
   ],
   "source": [
    "#loading the data\n",
    "import pandas as pd\n",
    "df = pd.read_csv(\"Advertising.csv\", index_col=0)\n",
    "df.head()"
   ]
  },
  {
   "cell_type": "code",
   "execution_count": 62,
   "id": "be40c890",
   "metadata": {},
   "outputs": [
    {
     "data": {
      "text/plain": [
       "TV           0\n",
       "Radio        0\n",
       "Newspaper    0\n",
       "Sales        0\n",
       "dtype: int64"
      ]
     },
     "execution_count": 62,
     "metadata": {},
     "output_type": "execute_result"
    }
   ],
   "source": [
    "df.isna().sum()"
   ]
  },
  {
   "cell_type": "code",
   "execution_count": 63,
   "id": "8ede6d9c",
   "metadata": {},
   "outputs": [
    {
     "data": {
      "text/plain": [
       "Index(['TV', 'Radio', 'Newspaper', 'Sales'], dtype='object')"
      ]
     },
     "execution_count": 63,
     "metadata": {},
     "output_type": "execute_result"
    }
   ],
   "source": [
    "df.columns"
   ]
  },
  {
   "cell_type": "markdown",
   "id": "5c6bcd10",
   "metadata": {},
   "source": [
    "# Analysis of the features"
   ]
  },
  {
   "cell_type": "code",
   "execution_count": 35,
   "id": "5b732cb6",
   "metadata": {},
   "outputs": [
    {
     "data": {
      "text/html": [
       "<div>\n",
       "<style scoped>\n",
       "    .dataframe tbody tr th:only-of-type {\n",
       "        vertical-align: middle;\n",
       "    }\n",
       "\n",
       "    .dataframe tbody tr th {\n",
       "        vertical-align: top;\n",
       "    }\n",
       "\n",
       "    .dataframe thead th {\n",
       "        text-align: right;\n",
       "    }\n",
       "</style>\n",
       "<table border=\"1\" class=\"dataframe\">\n",
       "  <thead>\n",
       "    <tr style=\"text-align: right;\">\n",
       "      <th></th>\n",
       "      <th>TV</th>\n",
       "      <th>Radio</th>\n",
       "      <th>Newspaper</th>\n",
       "      <th>Sales</th>\n",
       "    </tr>\n",
       "  </thead>\n",
       "  <tbody>\n",
       "    <tr>\n",
       "      <th>TV</th>\n",
       "      <td>1.000000</td>\n",
       "      <td>0.054809</td>\n",
       "      <td>0.056648</td>\n",
       "      <td>0.782224</td>\n",
       "    </tr>\n",
       "    <tr>\n",
       "      <th>Radio</th>\n",
       "      <td>0.054809</td>\n",
       "      <td>1.000000</td>\n",
       "      <td>0.354104</td>\n",
       "      <td>0.576223</td>\n",
       "    </tr>\n",
       "    <tr>\n",
       "      <th>Newspaper</th>\n",
       "      <td>0.056648</td>\n",
       "      <td>0.354104</td>\n",
       "      <td>1.000000</td>\n",
       "      <td>0.228299</td>\n",
       "    </tr>\n",
       "    <tr>\n",
       "      <th>Sales</th>\n",
       "      <td>0.782224</td>\n",
       "      <td>0.576223</td>\n",
       "      <td>0.228299</td>\n",
       "      <td>1.000000</td>\n",
       "    </tr>\n",
       "  </tbody>\n",
       "</table>\n",
       "</div>"
      ],
      "text/plain": [
       "                 TV     Radio  Newspaper     Sales\n",
       "TV         1.000000  0.054809   0.056648  0.782224\n",
       "Radio      0.054809  1.000000   0.354104  0.576223\n",
       "Newspaper  0.056648  0.354104   1.000000  0.228299\n",
       "Sales      0.782224  0.576223   0.228299  1.000000"
      ]
     },
     "execution_count": 35,
     "metadata": {},
     "output_type": "execute_result"
    }
   ],
   "source": [
    "#correlation analysis\n",
    "\n",
    "cor_matrix = df.corr()\n",
    "cor_matrix \n"
   ]
  },
  {
   "cell_type": "code",
   "execution_count": 36,
   "id": "5fc26228",
   "metadata": {},
   "outputs": [
    {
     "data": {
      "image/png": "[encoded data removed]",
      "text/plain": [
       "<Figure size 800x600 with 2 Axes>"
      ]
     },
     "metadata": {},
     "output_type": "display_data"
    }
   ],
   "source": [
    "#visualize the correlation using heapmap\n",
    "\n",
    "\n",
    "import matplotlib.pyplot as plt\n",
    "import seaborn as sns\n",
    "\n",
    "plt.figure(figsize=(8, 6))\n",
    "sns.heatmap(cor_matrix, annot=True, cmap='coolwarm', fmt='.2f')\n",
    "plt.title('Correlation Matrix')\n",
    "plt.show()"
   ]
  },
  {
   "cell_type": "code",
   "execution_count": 37,
   "id": "68ddf979",
   "metadata": {},
   "outputs": [
    {
     "name": "stdout",
     "output_type": "stream",
     "text": [
      "Selected Features:\n",
      "Index(['TV', 'Radio'], dtype='object')\n"
     ]
    }
   ],
   "source": [
    "# Feature Selection using SelectKBest with f_regression\n",
    "# Choosing the number of top features to select (k)\n",
    "\n",
    "from sklearn.feature_selection import SelectKBest, f_regression\n",
    "\n",
    "# Apply SelectKBest feature selection\n",
    "selector = SelectKBest(score_func=f_regression, k=2)\n",
    "selected_features = selector.fit_transform(ind_variables, df['Sales'])\n",
    "\n",
    "# Get the indices of the selected features\n",
    "selected_feature_indices = selector.get_support(indices=True)\n",
    "\n",
    "# Get the names of the selected features\n",
    "selected_feature_names = ind_variables.columns[selected_feature_indices]\n",
    "\n",
    "print(\"Selected Features:\")\n",
    "print(selected_feature_names)"
   ]
  },
  {
   "cell_type": "code",
   "execution_count": null,
   "id": "be9a106b",
   "metadata": {},
   "outputs": [],
   "source": []
  },
  {
   "cell_type": "markdown",
   "id": "016d61ad",
   "metadata": {},
   "source": [
    "# seperating the response variable from the independent variables"
   ]
  },
  {
   "cell_type": "code",
   "execution_count": 38,
   "id": "94b31295",
   "metadata": {},
   "outputs": [],
   "source": [
    "X = df.drop(columns=[\"Sales\"])\n",
    "Y = df['Sales']"
   ]
  },
  {
   "cell_type": "code",
   "execution_count": 39,
   "id": "8bc72b61",
   "metadata": {},
   "outputs": [
    {
     "data": {
      "text/html": [
       "<div>\n",
       "<style scoped>\n",
       "    .dataframe tbody tr th:only-of-type {\n",
       "        vertical-align: middle;\n",
       "    }\n",
       "\n",
       "    .dataframe tbody tr th {\n",
       "        vertical-align: top;\n",
       "    }\n",
       "\n",
       "    .dataframe thead th {\n",
       "        text-align: right;\n",
       "    }\n",
       "</style>\n",
       "<table border=\"1\" class=\"dataframe\">\n",
       "  <thead>\n",
       "    <tr style=\"text-align: right;\">\n",
       "      <th></th>\n",
       "      <th>TV</th>\n",
       "      <th>Radio</th>\n",
       "      <th>Newspaper</th>\n",
       "    </tr>\n",
       "  </thead>\n",
       "  <tbody>\n",
       "    <tr>\n",
       "      <th>1</th>\n",
       "      <td>230.1</td>\n",
       "      <td>37.8</td>\n",
       "      <td>69.2</td>\n",
       "    </tr>\n",
       "    <tr>\n",
       "      <th>2</th>\n",
       "      <td>44.5</td>\n",
       "      <td>39.3</td>\n",
       "      <td>45.1</td>\n",
       "    </tr>\n",
       "    <tr>\n",
       "      <th>3</th>\n",
       "      <td>17.2</td>\n",
       "      <td>45.9</td>\n",
       "      <td>69.3</td>\n",
       "    </tr>\n",
       "    <tr>\n",
       "      <th>4</th>\n",
       "      <td>151.5</td>\n",
       "      <td>41.3</td>\n",
       "      <td>58.5</td>\n",
       "    </tr>\n",
       "    <tr>\n",
       "      <th>5</th>\n",
       "      <td>180.8</td>\n",
       "      <td>10.8</td>\n",
       "      <td>58.4</td>\n",
       "    </tr>\n",
       "  </tbody>\n",
       "</table>\n",
       "</div>"
      ],
      "text/plain": [
       "      TV  Radio  Newspaper\n",
       "1  230.1   37.8       69.2\n",
       "2   44.5   39.3       45.1\n",
       "3   17.2   45.9       69.3\n",
       "4  151.5   41.3       58.5\n",
       "5  180.8   10.8       58.4"
      ]
     },
     "execution_count": 39,
     "metadata": {},
     "output_type": "execute_result"
    }
   ],
   "source": [
    "X.head()"
   ]
  },
  {
   "cell_type": "code",
   "execution_count": 40,
   "id": "ebb6f8ea",
   "metadata": {},
   "outputs": [
    {
     "data": {
      "text/plain": [
       "1    22.1\n",
       "2    10.4\n",
       "3     9.3\n",
       "4    18.5\n",
       "5    12.9\n",
       "Name: Sales, dtype: float64"
      ]
     },
     "execution_count": 40,
     "metadata": {},
     "output_type": "execute_result"
    }
   ],
   "source": [
    "Y.head()"
   ]
  },
  {
   "cell_type": "markdown",
   "id": "1a98614b",
   "metadata": {},
   "source": [
    "# Machine learning model development"
   ]
  },
  {
   "cell_type": "code",
   "execution_count": 68,
   "id": "08772fff",
   "metadata": {},
   "outputs": [],
   "source": [
    "from sklearn.model_selection import train_test_split, cross_val_score, GridSearchCV\n",
    "from sklearn.preprocessing import PolynomialFeatures\n",
    "from sklearn.linear_model import LinearRegression, Ridge\n",
    "from sklearn.preprocessing import StandardScaler\n",
    "from sklearn.metrics import r2_score, mean_squared_error\n",
    "from sklearn.metrics import accuracy_score,classification_report\n",
    "from sklearn.pipeline import make_pipeline\n",
    "import numpy as np"
   ]
  },
  {
   "cell_type": "code",
   "execution_count": null,
   "id": "17675c0d",
   "metadata": {},
   "outputs": [],
   "source": []
  },
  {
   "cell_type": "code",
   "execution_count": 42,
   "id": "8f8f00bb",
   "metadata": {},
   "outputs": [],
   "source": [
    "#split into train and test\n",
    "X_train, X_test, Y_train, Y_test = train_test_split(X, Y, test_size=20, random_state=0)"
   ]
  },
  {
   "cell_type": "markdown",
   "id": "fab4d560",
   "metadata": {},
   "source": [
    "# scaling the data using standardization"
   ]
  },
  {
   "cell_type": "code",
   "execution_count": 71,
   "id": "9782a94a",
   "metadata": {},
   "outputs": [],
   "source": [
    "#standardizing the data\n",
    "\n",
    "scale = StandardScaler()\n",
    "X_train_scal = scale.fit_transform(X_train)\n",
    "X_test_scal = scale.transform(X_test)\n"
   ]
  },
  {
   "cell_type": "markdown",
   "id": "fb678e46",
   "metadata": {},
   "source": [
    "# Linear Regression Model"
   ]
  },
  {
   "cell_type": "code",
   "execution_count": 135,
   "id": "e9823a38",
   "metadata": {},
   "outputs": [
    {
     "name": "stdout",
     "output_type": "stream",
     "text": [
      " \n",
      "Coefficients of the predictors variables:\n",
      "TV: 3.78\n",
      "Radio: 2.93\n",
      "Newspaper: -0.05\n",
      "Intercept: 14.15\n",
      " \n",
      "R-Squared: 0.76, MSE : 7.22\n",
      "MSE CV : 2.43\n",
      "\n",
      "the first 10 predicted values:\n",
      "[10.1, 7.5, 7.0, 24.1, 12.0, 6.6, 12.9, 15.1, 10.9, 16.4]\n"
     ]
    }
   ],
   "source": [
    "# building linear regression model\n",
    "lg = LinearRegression()\n",
    "lg.fit(X_train_scal,  Y_train)\n",
    "\n",
    "# make prediction using the test dataset\n",
    "predict_sales_Y = lg.predict(X_test_scal)\n",
    "\n",
    "# round the predicted values\n",
    "predictions = [round(x, 1) for x in predict_sales_Y]\n",
    "\n",
    "# calculate the R-squared of the model\n",
    "r_squared_lg = r2_score(Y_test, predict_sales_Y)\n",
    "\n",
    "# calculate mean squared error (MSE) of the model\n",
    "mse = mean_squared_error(Y_test, predict_sales_Y)\n",
    "\n",
    "\n",
    "# cross validation using K-fold\n",
    "cv_mse = cross_val_score(lg, X_train_scal, Y_train, cv=5, scoring=\"neg_mean_squared_error\")\n",
    "\n",
    "\n",
    "# Calculate the mean squared error (negative value) and convert it to positive\n",
    "cv = -cv_mse.mean()\n",
    "\n",
    "# Print coefficients\n",
    "print(\" \\nCoefficients of the predictors variables:\")\n",
    "for feature, coef in zip(X.columns, lg.coef_):\n",
    "    print(f\"{feature}: {coef:.2f}\")\n",
    "print(f\"Intercept: {lg.intercept_:.2f}\")\n",
    "\n",
    "print(f\" \\nR-Squared: {r_squared_lg:.2f}, MSE : {mse:.2f}\" )\n",
    "print(f\"MSE CV : {cv:.2f}\")\n",
    "\n",
    "print(\"\\nthe first 10 predicted values:\")\n",
    "print(predictions[:10])"
   ]
  },
  {
   "cell_type": "code",
   "execution_count": 46,
   "id": "4d6a88cb",
   "metadata": {},
   "outputs": [
    {
     "data": {
      "text/plain": [
       "7.478256392818543"
      ]
     },
     "execution_count": 46,
     "metadata": {},
     "output_type": "execute_result"
    }
   ],
   "source": [
    "predict_sales_Y[0]"
   ]
  },
  {
   "cell_type": "markdown",
   "id": "94abc520",
   "metadata": {},
   "source": [
    "# Building the model without scaling the data"
   ]
  },
  {
   "cell_type": "code",
   "execution_count": 16,
   "id": "e388b4e9",
   "metadata": {},
   "outputs": [
    {
     "name": "stdout",
     "output_type": "stream",
     "text": [
      "the R-Square : 0.7556846087219633\n",
      "MSE :  7.219641969961621\n"
     ]
    }
   ],
   "source": [
    "# building linear regression model\n",
    "lg2 = LinearRegression()\n",
    "lg2.fit(X_train,  Y_train)\n",
    "\n",
    "# make prediction\n",
    "predict = lg2.predict(X_test)\n",
    "\n",
    "# accuracy of the model, R-square\n",
    "r_squared_lg2 = r2_score(Y_test, predic)\n",
    "\n",
    "# MSE\n",
    "mse_lg2 = mean_squared_error(Y_test, predic)\n",
    "\n",
    "#print\n",
    "print(\"the R-Square :\", r_squared_lg2)\n",
    "print(\"MSE : \", mse_lg2)"
   ]
  },
  {
   "cell_type": "markdown",
   "id": "296975a8",
   "metadata": {},
   "source": [
    "# Build polynomial regression model"
   ]
  },
  {
   "cell_type": "code",
   "execution_count": 120,
   "id": "d1faa2b3",
   "metadata": {},
   "outputs": [
    {
     "name": "stdout",
     "output_type": "stream",
     "text": [
      "Polynomial Regression Coefficients:\n",
      "TV: 3.67\n",
      "Radio: 2.89\n",
      "Newspaper: 0.01\n",
      "TV^2: -0.73\n",
      "TV Radio: 1.31\n",
      "TV Newspaper: -0.03\n",
      "Radio^2: 0.07\n",
      "Radio Newspaper: 0.00\n",
      "Newspaper^2: 0.02\n",
      "Intercept: 14.71\n",
      "\n",
      "performance:\n",
      " R-squared: 0.95, MSE : 1.59\n",
      "\n",
      "Cross Validation:\n",
      "MSE CV : 0.30\n",
      "\n",
      "the 1st 1o predicted values:\n",
      "[10.1, 7.5, 7.0, 24.1, 12.0, 6.6, 12.9, 15.1, 10.9, 16.4]\n"
     ]
    }
   ],
   "source": [
    "features = PolynomialFeatures(degree=2, include_bias=False)\n",
    "\n",
    "X_train_p = features.fit_transform(X_train_scal)\n",
    "X_test_p = features.transform(X_test_scal)\n",
    "\n",
    "\n",
    "model = LinearRegression()\n",
    "model.fit(X_train_p, Y_train)\n",
    "\n",
    "prediction_sales_Y = model.predict(X_test_p)\n",
    "#round the predicted values\n",
    "predictions = [round(x, 1) for x in predict_sales_Y]\n",
    "\n",
    "\n",
    "#compute R-Squared to check the model performance\n",
    "R_squared_p = r2_score(Y_test, prediction_sales_Y)\n",
    "\n",
    "#MSE\n",
    "MSE = mean_squared_error(Y_test, prediction_sales_Y)\n",
    "\n",
    "\n",
    "# cross validation using K-fold\n",
    "cv = cross_val_score(model, X_train_p, Y_train, cv = 5,  scoring='neg_mean_squared_error')\n",
    "\n",
    "# compute the average MSE across folds\n",
    "mse_cv = -cv.mean()\n",
    "\n",
    "# Get the coefficients and feature names\n",
    "print(\"Polynomial Regression Coefficients:\")\n",
    "for feature, coef in zip(features.get_feature_names_out(X.columns), model.coef_):\n",
    "    print(f\"{feature}: {coef:.2f}\")\n",
    "print(f\"Intercept: {model.intercept_:.2f}\")\n",
    "\n",
    "\n",
    "print(\"\\nperformance:\")\n",
    "print(f\" R-squared: {R_squared_p:.2f}, MSE : {MSE:.2f}\" )\n",
    "print(f\"\\nCross Validation:\")\n",
    "print(f\"MSE CV : {mse_cv:.2f}\")\n",
    "\n",
    "print(\"\\nthe 1st 1o predicted values:\")\n",
    "print(predictions[:10])\n"
   ]
  },
  {
   "cell_type": "markdown",
   "id": "889c7830",
   "metadata": {},
   "source": [
    "# Ridge Regression"
   ]
  },
  {
   "cell_type": "code",
   "execution_count": 133,
   "id": "5b5c12ed",
   "metadata": {},
   "outputs": [
    {
     "name": "stdout",
     "output_type": "stream",
     "text": [
      "\n",
      "MSE: 7.22\n",
      "\n",
      "R-square : 0.76\n",
      "\n",
      "CV : 2.43\n",
      "\n",
      "the first 10 predictions : \n",
      " [10.1, 7.5, 7.1, 24.1, 12.0, 6.6, 12.9, 15.1, 10.9, 16.4]\n"
     ]
    }
   ],
   "source": [
    "rid_model = Ridge()\n",
    "grid_param = {'alpha': [0.1, 1.0, 10.0]}\n",
    "ridg_grid = GridSearchCV(rid_model, grid_param, cv=5)\n",
    "ridg_grid.fit(X_train_scal, Y_train)\n",
    "\n",
    "#make prediction\n",
    "y_pred_Sale = ridg_grid.predict(X_test_scal)\n",
    "\n",
    "#round the values\n",
    "predictions = [round(x, 1) for x in y_pred_Sale]\n",
    "\n",
    "# Compute R-squared\n",
    "r_squared_ridge = ridg_grid.score(X_test_scal, Y_test)\n",
    "#compute MSE\n",
    "ridge_MSE = mean_squared_error(Y_test, y_pred_Sale)\n",
    "\n",
    "\n",
    "# cross validation\n",
    "\n",
    "mse_scores = cross_val_score(ridg_grid, X_train_scal, Y_train, scoring='neg_mean_squared_error', cv=5)\n",
    "\n",
    "# compute the average MSE across folds\n",
    "mse_cv = -mse_scores.mean()\n",
    "\n",
    "\n",
    "\n",
    "#print(mse_cv)\n",
    "print(f\"\\nMSE: {ridge_MSE:.2f}\")\n",
    "print(f\"\\nR-square : {r_squared_ridge:.2f}\")\n",
    "print(f\"\\nCV : {mse_cv:.2f}\")\n",
    "print(\"\\nthe first 10 predictions : \")\n",
    "print(f\" {predictions[:10]}\")"
   ]
  },
  {
   "cell_type": "code",
   "execution_count": null,
   "id": "6b5cd5fc",
   "metadata": {},
   "outputs": [],
   "source": []
  },
  {
   "cell_type": "markdown",
   "id": "067f2558",
   "metadata": {},
   "source": [
    "# Random Forest Regressor"
   ]
  },
  {
   "cell_type": "code",
   "execution_count": 116,
   "id": "3452f736",
   "metadata": {},
   "outputs": [
    {
     "name": "stdout",
     "output_type": "stream",
     "text": [
      "\n",
      "MSE: 7.22\n",
      "\n",
      "R-square : 0.76\n",
      "\n",
      "CV : 0.57\n",
      "\n",
      "the first 10 prediction : \n",
      " [10.8, 9.3, 9.3, 25.5, 12.6, 8.7, 7.1, 12.6, 8.4, 16.3]\n"
     ]
    }
   ],
   "source": [
    "from sklearn.ensemble import RandomForestRegressor\n",
    "\n",
    "rf_model = RandomForestRegressor(random_state=42)\n",
    "rf_model.fit(X_train_scal, Y_train)\n",
    "\n",
    "# Make predictions on the test data\n",
    "y_pred_rf = rf_model.predict(X_test_scal)\n",
    "\n",
    "#ropund the predicted values\n",
    "predictions = [round(x, 1) for x in y_pred_rf]\n",
    "\n",
    "# Compute R-squared \n",
    "r_squared_rf = rf_model.score(X_test_scal, Y_test)\n",
    "\n",
    "# Compute MSE\n",
    "mse_rf = mean_squared_error(Y_test, y_pred_rf)\n",
    "\n",
    "# cross validation\n",
    "mse_scores = cross_val_score(rf_model, X_train_scal, Y_train, scoring='neg_mean_squared_error', cv=5)\n",
    "# compute the average MSE across folds\n",
    "mse_cv = -mse_scores.mean()\n",
    "\n",
    "#print(mse_cv)\n",
    "print(f\"\\nMSE: {ridge_MSE:.2f}\")\n",
    "print(f\"\\nR-square : {r_squared_ridge:.2f}\")\n",
    "print(f\"\\n MSE CV : {mse_cv:.2f}\")\n",
    "print(\"\\nthe first 10 prediction : \")\n",
    "print(f\" {predictions[:10]}\")\n",
    "\n"
   ]
  },
  {
   "cell_type": "code",
   "execution_count": 132,
   "id": "9e663e54",
   "metadata": {},
   "outputs": [
    {
     "data": {
      "image/png": "[encoded data removed]",
      "text/plain": [
       "<Figure size 640x480 with 1 Axes>"
      ]
     },
     "metadata": {},
     "output_type": "display_data"
    },
    {
     "data": {
      "text/plain": [
       "<Figure size 1500x1000 with 0 Axes>"
      ]
     },
     "metadata": {},
     "output_type": "display_data"
    }
   ],
   "source": [
    "import matplotlib.pyplot as plt; plt.rcdefaults()\n",
    "\n",
    "objects = ('Linear', 'polynomial', 'Ridge', 'Random Forest Regr')\n",
    "y_pos=np.arange(len(objects))\n",
    "performance=[r_squared_lg, R_squared_p, r_squared_ridge, r_squared_rf]\n",
    "\n",
    "plt.bar(y_pos, performance, align='center', alpha=0.5)\n",
    "plt.xticks(y_pos, objects)\n",
    "plt.ylabel('R-Squared', fontsize=20, fontweight='bold')\n",
    "plt.title('Lg vs PR vs RR Vs RFR', fontsize=25, fontweight='bold')\n",
    "plt.figure(figsize=(15, 10))\n",
    "plt.show()"
   ]
  },
  {
   "cell_type": "code",
   "execution_count": null,
   "id": "d7ad6797",
   "metadata": {},
   "outputs": [],
   "source": []
  },
  {
   "cell_type": "code",
   "execution_count": null,
   "id": "67bc9e92",
   "metadata": {},
   "outputs": [],
   "source": []
  },
  {
   "cell_type": "code",
   "execution_count": null,
   "id": "33bcfaac",
   "metadata": {},
   "outputs": [],
   "source": []
  },
  {
   "cell_type": "code",
   "execution_count": null,
   "id": "973f7437",
   "metadata": {},
   "outputs": [],
   "source": []
  },
  {
   "cell_type": "code",
   "execution_count": null,
   "id": "d85b6027",
   "metadata": {},
   "outputs": [],
   "source": [
    "from sklearn.ensemble import RandomForestRegressor"
   ]
  },
  {
   "cell_type": "code",
   "execution_count": null,
   "id": "cc736f68",
   "metadata": {},
   "outputs": [],
   "source": [
    "tv = 30, radio = 40, newspaper = 50"
   ]
  },
  {
   "cell_type": "code",
   "execution_count": 23,
   "id": "f82b6c28",
   "metadata": {},
   "outputs": [],
   "source": [
    "data = np.array([[30, 40, 50]])\n"
   ]
  },
  {
   "cell_type": "code",
   "execution_count": null,
   "id": "f678eca0",
   "metadata": {},
   "outputs": [],
   "source": []
  },
  {
   "cell_type": "code",
   "execution_count": 136,
   "id": "674d1cce",
   "metadata": {},
   "outputs": [
    {
     "name": "stderr",
     "output_type": "stream",
     "text": [
      "/Users/AKB_CIM/anaconda3/lib/python3.11/site-packages/sklearn/base.py:439: UserWarning: X does not have valid feature names, but StandardScaler was fitted with feature names\n",
      "  warnings.warn(\n"
     ]
    },
    {
     "data": {
      "text/plain": [
       "array([9.53579691])"
      ]
     },
     "execution_count": 136,
     "metadata": {},
     "output_type": "execute_result"
    }
   ],
   "source": [
    "pol = model.predict(features.transform(scale.transform(data)))\n",
    "pol"
   ]
  },
  {
   "cell_type": "code",
   "execution_count": 30,
   "id": "fb0335a1",
   "metadata": {},
   "outputs": [
    {
     "name": "stderr",
     "output_type": "stream",
     "text": [
      "/Users/AKB_CIM/anaconda3/lib/python3.11/site-packages/sklearn/base.py:439: UserWarning: X does not have valid feature names, but StandardScaler was fitted with feature names\n",
      "  warnings.warn(\n"
     ]
    }
   ],
   "source": [
    "prind = lg.predict(scale.transform(data))"
   ]
  },
  {
   "cell_type": "code",
   "execution_count": 31,
   "id": "35de4b4f",
   "metadata": {},
   "outputs": [
    {
     "data": {
      "text/plain": [
       "12.14064119815491"
      ]
     },
     "execution_count": 31,
     "metadata": {},
     "output_type": "execute_result"
    }
   ],
   "source": [
    "prind[0]"
   ]
  },
  {
   "cell_type": "code",
   "execution_count": 28,
   "id": "ce45fc02",
   "metadata": {},
   "outputs": [
    {
     "name": "stderr",
     "output_type": "stream",
     "text": [
      "/Users/AKB_CIM/anaconda3/lib/python3.11/site-packages/sklearn/base.py:439: UserWarning: X does not have valid feature names, but LinearRegression was fitted with feature names\n",
      "  warnings.warn(\n"
     ]
    },
    {
     "data": {
      "text/plain": [
       "array([12.1406412])"
      ]
     },
     "execution_count": 28,
     "metadata": {},
     "output_type": "execute_result"
    }
   ],
   "source": [
    "prind2 = lg2.predict(data)\n",
    "prind2"
   ]
  },
  {
   "cell_type": "code",
   "execution_count": null,
   "id": "52f97f84",
   "metadata": {},
   "outputs": [],
   "source": []
  },
  {
   "cell_type": "code",
   "execution_count": 45,
   "id": "97184884",
   "metadata": {},
   "outputs": [],
   "source": []
  },
  {
   "cell_type": "code",
   "execution_count": 56,
   "id": "d92e50ae",
   "metadata": {},
   "outputs": [
    {
     "name": "stderr",
     "output_type": "stream",
     "text": [
      "/Users/AKB_CIM/anaconda3/lib/python3.11/site-packages/sklearn/base.py:439: UserWarning: X does not have valid feature names, but StandardScaler was fitted with feature names\n",
      "  warnings.warn(\n"
     ]
    }
   ],
   "source": [
    "scaled = scale.transform([[30, 60, 50]])\n",
    "predictsales = lg.predict(scaled)"
   ]
  },
  {
   "cell_type": "code",
   "execution_count": 57,
   "id": "f1a250a3",
   "metadata": {},
   "outputs": [
    {
     "data": {
      "text/plain": [
       "array([16.10481749])"
      ]
     },
     "execution_count": 57,
     "metadata": {},
     "output_type": "execute_result"
    }
   ],
   "source": [
    "predictsales"
   ]
  },
  {
   "cell_type": "code",
   "execution_count": 87,
   "id": "25b9b550",
   "metadata": {},
   "outputs": [],
   "source": [
    "predictsales = lg.predict(([[30, 60, 50]]))"
   ]
  },
  {
   "cell_type": "code",
   "execution_count": 88,
   "id": "6bf37494",
   "metadata": {},
   "outputs": [
    {
     "data": {
      "text/plain": [
       "array([300.71392197])"
      ]
     },
     "execution_count": 88,
     "metadata": {},
     "output_type": "execute_result"
    }
   ],
   "source": [
    "predictsales"
   ]
  },
  {
   "cell_type": "code",
   "execution_count": null,
   "id": "f7dd66c4",
   "metadata": {},
   "outputs": [],
   "source": []
  }
 ],
 "metadata": {
  "kernelspec": {
   "display_name": "Python 3 (ipykernel)",
   "language": "python",
   "name": "python3"
  },
  "language_info": {
   "codemirror_mode": {
    "name": "ipython",
    "version": 3
   },
   "file_extension": ".py",
   "mimetype": "text/x-python",
   "name": "python",
   "nbconvert_exporter": "python",
   "pygments_lexer": "ipython3",
   "version": "3.11.3"
  }
 },
 "nbformat": 4,
 "nbformat_minor": 5
}
