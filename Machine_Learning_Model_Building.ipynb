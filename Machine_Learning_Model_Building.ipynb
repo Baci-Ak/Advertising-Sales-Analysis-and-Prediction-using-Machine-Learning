{
 "cells": [
  {
   "cell_type": "code",
   "execution_count": null,
   "id": "9f2bf174",
   "metadata": {},
   "outputs": [],
   "source": []
  },
  {
   "cell_type": "code",
   "execution_count": null,
   "id": "e5f33434",
   "metadata": {},
   "outputs": [],
   "source": []
  },
  {
   "cell_type": "code",
   "execution_count": 1,
   "id": "03d65ae9",
   "metadata": {},
   "outputs": [
    {
     "data": {
      "text/html": [
       "<div>\n",
       "<style scoped>\n",
       "    .dataframe tbody tr th:only-of-type {\n",
       "        vertical-align: middle;\n",
       "    }\n",
       "\n",
       "    .dataframe tbody tr th {\n",
       "        vertical-align: top;\n",
       "    }\n",
       "\n",
       "    .dataframe thead th {\n",
       "        text-align: right;\n",
       "    }\n",
       "</style>\n",
       "<table border=\"1\" class=\"dataframe\">\n",
       "  <thead>\n",
       "    <tr style=\"text-align: right;\">\n",
       "      <th></th>\n",
       "      <th>TV</th>\n",
       "      <th>Radio</th>\n",
       "      <th>Newspaper</th>\n",
       "      <th>Sales</th>\n",
       "    </tr>\n",
       "  </thead>\n",
       "  <tbody>\n",
       "    <tr>\n",
       "      <th>0</th>\n",
       "      <td>230.1</td>\n",
       "      <td>37.8</td>\n",
       "      <td>69.2</td>\n",
       "      <td>22.1</td>\n",
       "    </tr>\n",
       "    <tr>\n",
       "      <th>1</th>\n",
       "      <td>44.5</td>\n",
       "      <td>39.3</td>\n",
       "      <td>45.1</td>\n",
       "      <td>10.4</td>\n",
       "    </tr>\n",
       "    <tr>\n",
       "      <th>2</th>\n",
       "      <td>17.2</td>\n",
       "      <td>45.9</td>\n",
       "      <td>69.3</td>\n",
       "      <td>9.3</td>\n",
       "    </tr>\n",
       "    <tr>\n",
       "      <th>3</th>\n",
       "      <td>151.5</td>\n",
       "      <td>41.3</td>\n",
       "      <td>58.5</td>\n",
       "      <td>18.5</td>\n",
       "    </tr>\n",
       "    <tr>\n",
       "      <th>4</th>\n",
       "      <td>180.8</td>\n",
       "      <td>10.8</td>\n",
       "      <td>58.4</td>\n",
       "      <td>12.9</td>\n",
       "    </tr>\n",
       "  </tbody>\n",
       "</table>\n",
       "</div>"
      ],
      "text/plain": [
       "      TV  Radio  Newspaper  Sales\n",
       "0  230.1   37.8       69.2   22.1\n",
       "1   44.5   39.3       45.1   10.4\n",
       "2   17.2   45.9       69.3    9.3\n",
       "3  151.5   41.3       58.5   18.5\n",
       "4  180.8   10.8       58.4   12.9"
      ]
     },
     "execution_count": 1,
     "metadata": {},
     "output_type": "execute_result"
    }
   ],
   "source": [
    "#Loading the dataset\n",
    "\n",
    "import pandas as pd\n",
    "df = pd.read_csv(\"Advertising.csv\", usecols=lambda column: column != 'Unnamed: 0')\n",
    "df.head()"
   ]
  },
  {
   "cell_type": "code",
   "execution_count": null,
   "id": "3054b3ab",
   "metadata": {},
   "outputs": [],
   "source": []
  },
  {
   "cell_type": "code",
   "execution_count": null,
   "id": "28726ab5",
   "metadata": {},
   "outputs": [],
   "source": []
  },
  {
   "cell_type": "markdown",
   "id": "0a8792b3",
   "metadata": {},
   "source": [
    "# Data Splitting"
   ]
  },
  {
   "cell_type": "code",
   "execution_count": 2,
   "id": "c30d4928",
   "metadata": {},
   "outputs": [
    {
     "name": "stdout",
     "output_type": "stream",
     "text": [
      "Training set shapes:\n",
      "X_train: (160, 3)\n",
      "y_train: (160,)\n",
      "\n",
      "Testing set shapes:\n",
      "X_test: (40, 3)\n",
      "y_test: (40,)\n"
     ]
    }
   ],
   "source": [
    "# Spliting the dataset into training and testing sets\n",
    "\n",
    "from sklearn.model_selection import train_test_split\n",
    "import pandas as pd\n",
    "\n",
    "\n",
    "\n",
    "# Split data into features (X) and target (y)\n",
    "X = df.drop('Sales', axis=1)\n",
    "y = df['Sales']\n",
    "\n",
    "# Split into training and testing sets\n",
    "X_train, X_test, y_train, y_test = train_test_split(X, y, test_size=0.2, random_state=42)\n",
    "\n",
    "print(\"Training set shapes:\")\n",
    "print(\"X_train:\", X_train.shape)\n",
    "print(\"y_train:\", y_train.shape)\n",
    "\n",
    "print(\"\\nTesting set shapes:\")\n",
    "print(\"X_test:\", X_test.shape)\n",
    "print(\"y_test:\", y_test.shape)\n"
   ]
  },
  {
   "cell_type": "code",
   "execution_count": null,
   "id": "d20cb880",
   "metadata": {},
   "outputs": [],
   "source": []
  },
  {
   "cell_type": "markdown",
   "id": "37199129",
   "metadata": {},
   "source": [
    "# scaling the data using standardization\n"
   ]
  },
  {
   "cell_type": "code",
   "execution_count": 3,
   "id": "d827f052",
   "metadata": {},
   "outputs": [
    {
     "name": "stdout",
     "output_type": "stream",
     "text": [
      "Scaled Training Features:\n",
      "[[-4.04248386e-01 -1.02823707e+00 -3.37675384e-01]\n",
      " [ 3.20607716e-01 -9.19827737e-01 -1.16143931e+00]\n",
      " [-1.27051084e+00  2.59123702e-01  2.54250789e-01]\n",
      " [-1.04235941e+00 -6.96233499e-01 -5.74445854e-01]\n",
      " [ 8.79103401e-01 -1.38734296e+00 -7.07629243e-01]\n",
      " [-1.32873699e+00 -1.29926038e+00 -7.96418169e-01]\n",
      " [-9.43731452e-01 -4.65863678e-01  5.35415722e-01]\n",
      " [-3.23140256e-02  6.94073782e-02 -5.34984109e-01]\n",
      " [-5.39713297e-01 -1.16374872e+00  2.19721762e-01]\n",
      " [-8.75998996e-01  3.13328366e-01 -6.87898371e-01]\n",
      " [-8.53421511e-01  1.62101588e+00  2.24654481e-01]\n",
      " [ 2.18414888e-01 -1.06889056e+00 -8.45745350e-01]\n",
      " [-1.67928215e+00  1.76330312e+00  2.22240532e+00]\n",
      " [-1.68997675e+00  1.08574483e+00  1.01882210e+00]\n",
      " [-8.74810708e-01 -1.49575229e+00 -7.47090988e-01]\n",
      " [-2.45017701e-01 -1.16374872e+00  6.68075010e-02]\n",
      " [-9.10459368e-01 -3.98107848e-01 -8.40812632e-01]\n",
      " [ 1.65980907e+00  1.31611465e+00  1.04841841e+00]\n",
      " [-1.54975868e+00 -1.88064775e-01 -6.38571189e-01]\n",
      " [ 5.65395186e-01 -1.31281155e+00 -1.18610290e+00]\n",
      " [ 1.59564148e+00 -8.31745159e-01 -1.16143931e+00]\n",
      " [ 4.14482522e-01 -1.27084528e-01 -3.91935284e-01]\n",
      " [-4.41085335e-01 -3.71005516e-01  4.26895923e-01]\n",
      " [-1.49985056e+00  8.28272672e-01  1.77352797e+00]\n",
      " [ 1.67169196e+00 -1.27215805e+00 -1.05785223e+00]\n",
      " [-1.55213526e+00 -4.65863678e-01 -3.77137129e-01]\n",
      " [ 1.70615233e+00  3.26879532e-01 -1.38834434e+00]\n",
      " [-1.56045328e+00 -7.30111414e-01 -3.22877230e-01]\n",
      " [-1.86791555e-01 -1.21795339e+00 -1.01839048e+00]\n",
      " [-1.47846136e+00  1.09252041e+00 -1.01839048e+00]\n",
      " [-5.89621422e-01 -8.99500988e-01 -1.29955542e+00]\n",
      " [-8.29655737e-01 -1.54995695e+00 -1.02332320e+00]\n",
      " [ 4.56072627e-01 -3.23576435e-01 -2.14357432e-01]\n",
      " [ 3.20607716e-01  7.13087762e-01  4.31828641e-01]\n",
      " [-2.88984383e-01  9.50233166e-01  2.42957948e+00]\n",
      " [ 7.07989829e-01 -1.54186860e-01 -9.49332431e-01]\n",
      " [-8.45987280e-02  4.35288859e-01 -8.55610786e-01]\n",
      " [ 4.14482522e-01  1.42452397e+00 -1.39327706e+00]\n",
      " [ 8.60090782e-01 -1.25860689e+00  9.79360352e-01]\n",
      " [ 1.08943050e+00  1.02476458e+00 -3.32742666e-01]\n",
      " [-1.57827761e+00  1.56003563e+00  1.94124038e+00]\n",
      " [-3.50775395e-01  3.81084195e-01 -7.76687297e-01]\n",
      " [-7.16768312e-01 -8.79174239e-01  2.83847098e-01]\n",
      " [ 4.88156421e-01  3.94635361e-01 -5.79378572e-01]\n",
      " [-8.85505306e-01 -8.18193993e-01 -1.18117018e+00]\n",
      " [ 5.13110484e-01 -3.03249686e-01  1.76366253e+00]\n",
      " [-7.64299859e-01  8.75701753e-01  9.54696761e-01]\n",
      " [ 1.38887925e+00  1.41774839e+00 -1.23049736e+00]\n",
      " [-1.31328923e+00  1.23480765e+00 -1.19103562e+00]\n",
      " [ 1.32233508e+00  1.34321698e+00  1.22106354e+00]\n",
      " [-1.62580916e+00 -4.72639260e-01  9.69494916e-01]\n",
      " [ 5.19051927e-01  8.48599421e-01  2.25200163e+00]\n",
      " [ 1.73942441e+00  9.09579668e-01  3.49997931e+00]\n",
      " [ 1.37343150e+00 -1.94840358e-01 -1.46233511e+00]\n",
      " [ 7.68592552e-01  7.61829612e-02 -1.27982454e+00]\n",
      " [-3.79509701e-03  8.62150587e-01 -1.18117018e+00]\n",
      " [-2.17687061e-01 -3.03249686e-01  2.29587199e-01]\n",
      " [-1.09939727e+00  6.72434264e-01 -3.17944512e-01]\n",
      " [ 1.07041788e+00 -4.18434597e-01 -3.47540821e-01]\n",
      " [-1.03611347e-01  2.65899285e-01  8.01782500e-01]\n",
      " [ 3.65762686e-01 -8.18193993e-01  1.40357411e+00]\n",
      " [-6.27646660e-01 -1.44832321e+00  2.68216547e-03]\n",
      " [ 8.37513296e-01  6.99536596e-01  3.92366896e-01]\n",
      " [-1.15494234e-01 -1.42122088e+00 -1.03318864e+00]\n",
      " [ 1.25222605e+00  2.72674868e-01 -1.20583377e+00]\n",
      " [-6.39529547e-01 -5.47170673e-01  4.41694078e-01]\n",
      " [-9.97204443e-01 -1.15697314e+00 -2.83415485e-01]\n",
      " [ 1.06091157e+00 -4.99741592e-01 -1.30501224e-01]\n",
      " [ 3.05159963e-01 -5.06517175e-01 -1.35874803e+00]\n",
      " [ 1.07041788e+00 -1.05533940e+00 -1.04798679e+00]\n",
      " [-1.56995959e+00  9.97662247e-01 -4.11666156e-01]\n",
      " [ 9.51589011e-01  1.01121341e+00  1.93630767e+00]\n",
      " [ 1.58732346e+00  1.29578790e+00  1.78832612e+00]\n",
      " [ 2.52875260e-01  1.13994949e+00  3.82501460e-01]\n",
      " [ 5.83219517e-01  5.23371438e-01  4.31828641e-01]\n",
      " [-3.19879889e-01  7.94394757e-01 -8.65476223e-01]\n",
      " [-2.24816794e-01  1.34999256e+00 -5.15777338e-02]\n",
      " [-1.48440281e+00  1.91367872e-01  6.58733675e-01]\n",
      " [ 1.60188742e-01  9.43457583e-01 -1.11211213e+00]\n",
      " [ 1.17379900e+00  2.86226034e-01 -3.47540821e-01]\n",
      " [ 6.23621332e-01 -3.90019495e-02  8.16056553e-02]\n",
      " [-1.62699745e+00 -1.52285462e+00 -2.14357432e-01]\n",
      " [-1.73394343e+00 -7.63989329e-01 -1.19596834e+00]\n",
      " [-6.66860187e-01  1.39742164e+00  1.01388938e+00]\n",
      " [ 1.34134770e+00 -1.31281155e+00 -5.15253237e-01]\n",
      " [ 9.30199814e-01 -4.04883431e-01 -1.84761123e-01]\n",
      " [ 1.23321343e+00 -1.06757779e-01  2.68216547e-03]\n",
      " [ 1.10725483e+00  1.77007871e+00  7.08060856e-01]\n",
      " [ 1.06685301e+00 -1.27215805e+00  3.43039715e-01]\n",
      " [ 9.26634948e-01  1.00443783e+00  1.01336528e-01]\n",
      " [ 7.76910573e-01  4.90806292e-02  1.36411236e+00]\n",
      " [ 1.06804130e+00  1.26190998e+00 -5.64580418e-01]\n",
      " [-5.06441213e-01 -6.01375337e-01 -9.39466994e-01]\n",
      " [ 4.48942894e-01 -1.20308945e-01 -1.00852505e+00]\n",
      " [ 6.75906034e-01 -9.80807984e-01 -1.74895687e-01]\n",
      " [-1.27169913e+00  2.04919038e-01 -4.65926055e-01]\n",
      " [ 1.75940994e-02  1.24835882e+00  1.40850683e+00]\n",
      " [-1.44013163e-01  1.59391355e+00  1.43317042e+00]\n",
      " [ 3.87151882e-01  1.58036238e+00  1.41837226e+00]\n",
      " [ 8.29195276e-01  7.19863345e-01  7.47522601e-01]\n",
      " [ 7.81968227e-02 -1.37379180e+00 -1.06771767e+00]\n",
      " [ 1.50533154e+00 -1.39411855e+00 -3.08079076e-01]\n",
      " [ 6.53328549e-01  1.50583097e+00 -5.10320518e-01]\n",
      " [-9.87698133e-01 -7.57213746e-01  3.38106997e-01]\n",
      " [-8.74810708e-01  2.59123702e-01 -3.77137129e-01]\n",
      " [-6.45470990e-01 -1.45509879e+00 -1.11211213e+00]\n",
      " [-3.54340261e-01 -2.21942690e-01 -9.04937968e-01]\n",
      " [ 9.00492597e-01 -9.94359150e-01  1.30985247e+00]\n",
      " [-1.44281270e+00 -1.44832321e+00  1.50663709e-01]\n",
      " [-9.69873803e-01  1.46517747e+00  2.78914380e-01]\n",
      " [ 1.16904584e+00  4.96269106e-01 -4.75791492e-01]\n",
      " [ 8.13747523e-01 -1.18407547e+00 -1.25568505e-01]\n",
      " [-4.77922285e-01  1.68877171e+00  1.05828384e+00]\n",
      " [-1.68047044e+00 -1.40766971e+00 -1.42780609e+00]\n",
      " [-6.24081794e-01 -1.03501265e+00 -1.12197756e+00]\n",
      " [ 7.21061005e-01  4.48840025e-01 -1.01839048e+00]\n",
      " [ 1.72071629e-01 -1.33860111e-01  8.60975117e-01]\n",
      " [ 1.36867834e+00 -1.35346505e+00  6.43935520e-01]\n",
      " [ 1.56118111e+00  1.13317391e+00  1.27532344e+00]\n",
      " [-1.46420190e+00  6.85985430e-01 -5.25118673e-01]\n",
      " [ 1.50770812e+00  1.76330312e+00  5.84742903e-01]\n",
      " [-1.34418474e+00  1.06541808e+00  1.75872981e+00]\n",
      " [ 6.74717746e-01 -1.19762664e+00 -5.20185955e-01]\n",
      " [ 1.63485501e+00  1.36354373e+00  2.06455834e+00]\n",
      " [-5.62290782e-01  4.55615608e-01 -1.06278495e+00]\n",
      " [ 1.33897112e+00  4.01410944e-01 -6.92831089e-01]\n",
      " [-7.08450291e-01 -1.52963021e+00 -3.32742666e-01]\n",
      " [ 5.91537537e-01 -1.33991388e+00  2.29587199e-01]\n",
      " [-6.63295321e-01 -1.21795339e+00 -1.07758310e+00]\n",
      " [ 7.22249293e-01  1.81073220e+00  3.82501460e-01]\n",
      " [ 9.17128639e-01 -4.79414843e-01  9.84293070e-01]\n",
      " [-7.33404353e-01  1.77816706e-01  2.14348183e+00]\n",
      " [ 1.03833409e+00 -1.20440222e+00 -3.17944512e-01]\n",
      " [-1.64214070e-01 -2.49045022e-01 -6.58302062e-01]\n",
      " [ 2.67134725e-01 -3.23576435e-01  3.72111923e-02]\n",
      " [-1.57827761e+00 -1.27215805e+00  8.16056553e-02]\n",
      " [-1.07444321e+00 -7.36886997e-01  6.48868238e-01]\n",
      " [-8.95011616e-01  1.79718104e+00  7.77118909e-01]\n",
      " [-2.60680832e-03 -1.46187438e+00 -2.78482767e-01]\n",
      " [ 1.99402269e-01  1.29578790e+00 -1.29955542e+00]\n",
      " [-1.25387480e+00  1.11284716e+00  7.47522601e-01]\n",
      " [ 7.88793460e-01  1.27546115e+00  4.76223104e-01]\n",
      " [-1.25149822e+00  1.98143455e-01 -4.60993337e-01]\n",
      " [-1.77434525e+00  1.13317391e+00 -1.04798679e+00]\n",
      " [-3.44833951e-01 -9.80807984e-01  9.25100453e-01]\n",
      " [ 4.50131183e-01 -3.84556682e-01 -5.94176726e-01]\n",
      " [-1.76096957e-01  1.27546115e+00  7.86984346e-01]\n",
      " [-1.28565410e-01 -5.81048588e-01 -2.14357432e-01]\n",
      " [-4.67227687e-01  1.20092974e+00  1.64034458e+00]\n",
      " [ 7.53144799e-01  1.16836459e-01 -8.30947196e-01]\n",
      " [-1.55926499e+00 -7.96554474e-02  1.00895666e+00]\n",
      " [ 9.75354785e-01 -9.67256818e-01 -1.04798679e+00]\n",
      " [ 8.12559234e-01  3.26879532e-01  1.15693820e+00]\n",
      " [ 1.61584239e+00 -6.08150920e-01 -1.29462270e+00]\n",
      " [-4.77922285e-01 -5.81048588e-01  8.65383734e-02]\n",
      " [-1.48559110e+00 -8.04642827e-01 -1.21159889e-02]\n",
      " [ 6.42633951e-01  6.79209847e-01  7.91917064e-01]\n",
      " [ 8.04241213e-01  7.19863345e-01  1.43317042e+00]\n",
      " [ 1.85142805e-01 -8.72398657e-01 -6.08974881e-01]\n",
      " [ 1.54692165e+00 -8.65623074e-01 -4.21531592e-01]]\n",
      "\n",
      "Scaled Testing Features:\n",
      "[[ 0.15781217  0.59112727  1.13227461]\n",
      " [ 0.53925283  1.68199613  1.13227461]\n",
      " [ 1.69783431  0.36753303  0.65380096]\n",
      " [-1.64363349  0.95023317  0.75245532]\n",
      " [ 0.83513672  1.77007871 -1.31928629]\n",
      " [-0.89025846  0.82149709  1.12240918]\n",
      " [ 0.79354661  1.42452397 -0.13543394]\n",
      " [-1.18851892 -0.76398933 -0.56951314]\n",
      " [ 0.86009078 -1.31958713 -0.8309472 ]\n",
      " [ 0.29803023 -0.02545078  0.07667294]\n",
      " [-1.40835233  0.11683646 -1.36861347]\n",
      " [-1.11484502 -1.16374872 -0.01211599]\n",
      " [ 1.00387371 -1.31958713  2.70581169]\n",
      " [-1.71849568  0.47594236 -1.01345777]\n",
      " [-0.12500054 -1.40766971 -0.16503025]\n",
      " [ 0.23980408 -1.02146148  0.25918351]\n",
      " [-1.69591819  0.35398186  0.56501203]\n",
      " [ 0.56539519  0.02875388 -0.7766873 ]\n",
      " [-0.88788188 -0.17451361  0.12600012]\n",
      " [ 1.03833409  0.31332837 -0.93453428]\n",
      " [ 0.94445928  0.63855635  2.18294357]\n",
      " [-0.97700354  0.92990642  4.14616538]\n",
      " [-1.33111357  1.18060299 -0.89013981]\n",
      " [ 1.19875306  0.92313083  2.08922193]\n",
      " [-0.96274407 -0.91982774 -1.43273881]\n",
      " [-1.14692882 -1.4144453  -0.42153159]\n",
      " [ 0.75433309  1.36354373  0.19012545]\n",
      " [-0.12737712 -0.56749742 -0.97399602]\n",
      " [-0.74647553 -0.75043816 -0.19955928]\n",
      " [-1.68284702  0.29300162 -1.37354619]\n",
      " [ 0.59153754 -1.3737918  -0.43139703]\n",
      " [-0.96036749 -0.16096244 -0.57444585]\n",
      " [ 0.58084294  1.79718104  1.4824976 ]\n",
      " [-1.58184248  1.41097281  2.93271673]\n",
      " [ 1.55286309 -0.60815092  0.34797243]\n",
      " [ 1.04784039  0.77406801 -1.21569921]\n",
      " [-1.20871983  1.63456705 -1.05785223]\n",
      " [ 1.46968288  0.40818653  1.46769945]\n",
      " [-0.38998892 -0.55394626 -1.21076649]\n",
      " [-1.45588388 -1.44154763 -0.45606062]]\n"
     ]
    }
   ],
   "source": [
    "from sklearn.preprocessing import StandardScaler\n",
    "\n",
    "# Initialize the StandardScaler\n",
    "scaler = StandardScaler()\n",
    "\n",
    "# Fit and transform the training features\n",
    "X_train_scaled = scaler.fit_transform(X_train)\n",
    "\n",
    "# Transform the testing features using the same scaler\n",
    "X_test_scaled = scaler.transform(X_test)\n",
    "\n",
    "# Display scaled training features\n",
    "print(\"Scaled Training Features:\")\n",
    "print(X_train_scaled)\n",
    "\n",
    "# Display scaled testing features\n",
    "print(\"\\nScaled Testing Features:\")\n",
    "print(X_test_scaled)\n"
   ]
  },
  {
   "cell_type": "code",
   "execution_count": null,
   "id": "6633670d",
   "metadata": {},
   "outputs": [],
   "source": []
  },
  {
   "cell_type": "markdown",
   "id": "ed0c4c05",
   "metadata": {},
   "source": [
    "# Linear Regression Model"
   ]
  },
  {
   "cell_type": "code",
   "execution_count": null,
   "id": "5dabf208",
   "metadata": {},
   "outputs": [],
   "source": []
  },
  {
   "cell_type": "code",
   "execution_count": 6,
   "id": "5484394c",
   "metadata": {},
   "outputs": [
    {
     "name": "stdout",
     "output_type": "stream",
     "text": [
      "Best Linear Regression Model Metrics:\n",
      "Mean Squared Error (MSE) on Testing Data: 3.174097353976107\n",
      "R-Squared (R2) on Testing Data: 0.8994380241009119\n",
      "Mean Squared Error (MSE) using Cross-Validation: 2.9433926025900394\n",
      "Average R-Squared (R2) using Cross-Validation: 0.8594884313276514\n"
     ]
    }
   ],
   "source": [
    "from sklearn.linear_model import LinearRegression\n",
    "\n",
    "from sklearn.model_selection import GridSearchCV, cross_val_predict, cross_val_score\n",
    "from sklearn.metrics import mean_squared_error, r2_score\n",
    "import numpy as np\n",
    "\n",
    "# Initialize Linear Regression model\n",
    "linear_reg_model = LinearRegression()\n",
    "\n",
    "# Define hyperparameters to search\n",
    "param_grid = {\n",
    "    'fit_intercept': [True, False]\n",
    "}\n",
    "\n",
    "# Initialize GridSearchCV for hyperparameter tuning\n",
    "grid_search = GridSearchCV(linear_reg_model, param_grid, cv=5, scoring='neg_mean_squared_error')\n",
    "\n",
    "# Fit the GridSearchCV on training data\n",
    "grid_search.fit(X_train_scaled, y_train)\n",
    "\n",
    "# Get the best model with tuned hyperparameters\n",
    "best_linear_reg_model = grid_search.best_estimator_\n",
    "\n",
    "# Predict on the scaled testing features\n",
    "y_test_pred = best_linear_reg_model.predict(X_test_scaled)\n",
    "\n",
    "# Calculate metrics for testing data\n",
    "mse_test = mean_squared_error(y_test, y_test_pred)\n",
    "r2_test = r2_score(y_test, y_test_pred)\n",
    "\n",
    "# Perform cross-validation to get predicted values\n",
    "y_cv_pred = cross_val_predict(best_linear_reg_model, X_train_scaled, y_train, cv=5)\n",
    "\n",
    "# Calculate MSE using cross-validation\n",
    "mse_cv = mean_squared_error(y_train, y_cv_pred)\n",
    "\n",
    "# Calculate R-squared using cross-validation\n",
    "r2_cv = np.mean(cross_val_score(best_linear_reg_model, X_train_scaled, y_train, cv=5, scoring='r2'))\n",
    "\n",
    "print(\"Best Linear Regression Model Metrics:\")\n",
    "print(\"Mean Squared Error (MSE) on Testing Data:\", mse_test)\n",
    "print(\"R-Squared (R2) on Testing Data:\", r2_test)\n",
    "print(\"Mean Squared Error (MSE) using Cross-Validation:\", mse_cv)\n",
    "print(\"Average R-Squared (R2) using Cross-Validation:\", r2_cv)\n"
   ]
  },
  {
   "cell_type": "code",
   "execution_count": null,
   "id": "9497042c",
   "metadata": {},
   "outputs": [],
   "source": []
  },
  {
   "cell_type": "markdown",
   "id": "c2cea51f",
   "metadata": {},
   "source": [
    "# polynomial regression model"
   ]
  },
  {
   "cell_type": "code",
   "execution_count": 7,
   "id": "c94eec5f",
   "metadata": {},
   "outputs": [
    {
     "name": "stdout",
     "output_type": "stream",
     "text": [
      "Polynomial Regression Model Metrics:\n",
      "Mean Squared Error (MSE) on Testing Data: 0.4129102285379017\n",
      "R-Squared (R2) on Testing Data: 0.9869181490609604\n",
      "Mean Squared Error (MSE) using Cross-Validation: 0.4882133752459832\n",
      "Average R-Squared (R2) using Cross-Validation: 0.9772385008669214\n"
     ]
    }
   ],
   "source": [
    "from sklearn.preprocessing import PolynomialFeatures\n",
    "\n",
    "from sklearn.pipeline import make_pipeline\n",
    "\n",
    "# Initialize Polynomial Regression model\n",
    "polynomial_reg_model = make_pipeline(PolynomialFeatures(degree=2), LinearRegression())\n",
    "\n",
    "# Train the model on the scaled training features\n",
    "polynomial_reg_model.fit(X_train_scaled, y_train)\n",
    "\n",
    "# Predict on the scaled testing features\n",
    "y_test_pred = polynomial_reg_model.predict(X_test_scaled)\n",
    "\n",
    "# Calculate metrics for testing data\n",
    "mse_test = mean_squared_error(y_test, y_test_pred)\n",
    "r2_test = r2_score(y_test, y_test_pred)\n",
    "\n",
    "# Perform cross-validation to get predicted values\n",
    "y_cv_pred = cross_val_predict(polynomial_reg_model, X_train_scaled, y_train, cv=5)\n",
    "\n",
    "# Calculate MSE using cross-validation\n",
    "mse_cv = mean_squared_error(y_train, y_cv_pred)\n",
    "\n",
    "# Calculate R-squared using cross-validation\n",
    "r2_cv = np.mean(cross_val_score(polynomial_reg_model, X_train_scaled, y_train, cv=5, scoring='r2'))\n",
    "\n",
    "print(\"Polynomial Regression Model Metrics:\")\n",
    "print(\"Mean Squared Error (MSE) on Testing Data:\", mse_test)\n",
    "print(\"R-Squared (R2) on Testing Data:\", r2_test)\n",
    "print(\"Mean Squared Error (MSE) using Cross-Validation:\", mse_cv)\n",
    "print(\"Average R-Squared (R2) using Cross-Validation:\", r2_cv)\n"
   ]
  },
  {
   "cell_type": "code",
   "execution_count": null,
   "id": "4f345989",
   "metadata": {},
   "outputs": [],
   "source": []
  },
  {
   "cell_type": "markdown",
   "id": "68f4e5da",
   "metadata": {},
   "source": [
    "# Ridge Regression"
   ]
  },
  {
   "cell_type": "code",
   "execution_count": 8,
   "id": "c253c029",
   "metadata": {},
   "outputs": [
    {
     "name": "stdout",
     "output_type": "stream",
     "text": [
      "Ridge Regression Model Metrics:\n",
      "Mean Squared Error (MSE) on Testing Data: 3.1941558922079643\n",
      "R-Squared (R2) on Testing Data: 0.8988025280800617\n",
      "Mean Squared Error (MSE) using Cross-Validation: 2.945615462110152\n",
      "Average R-Squared (R2) using Cross-Validation: 0.8596615496108058\n"
     ]
    }
   ],
   "source": [
    "from sklearn.linear_model import Ridge\n",
    "\n",
    "\n",
    "# Initialize Ridge Regression model\n",
    "ridge_reg_model = Ridge(alpha=1.0)  # You can adjust the alpha parameter\n",
    "\n",
    "# Train the model on the scaled training features\n",
    "ridge_reg_model.fit(X_train_scaled, y_train)\n",
    "\n",
    "# Predict on the scaled testing features\n",
    "y_test_pred = ridge_reg_model.predict(X_test_scaled)\n",
    "\n",
    "# Calculate metrics for testing data\n",
    "mse_test = mean_squared_error(y_test, y_test_pred)\n",
    "r2_test = r2_score(y_test, y_test_pred)\n",
    "\n",
    "# Perform cross-validation to get predicted values\n",
    "y_cv_pred = cross_val_predict(ridge_reg_model, X_train_scaled, y_train, cv=5)\n",
    "\n",
    "# Calculate MSE using cross-validation\n",
    "mse_cv = mean_squared_error(y_train, y_cv_pred)\n",
    "\n",
    "# Calculate R-squared using cross-validation\n",
    "r2_cv = np.mean(cross_val_score(ridge_reg_model, X_train_scaled, y_train, cv=5, scoring='r2'))\n",
    "\n",
    "print(\"Ridge Regression Model Metrics:\")\n",
    "print(\"Mean Squared Error (MSE) on Testing Data:\", mse_test)\n",
    "print(\"R-Squared (R2) on Testing Data:\", r2_test)\n",
    "print(\"Mean Squared Error (MSE) using Cross-Validation:\", mse_cv)\n",
    "print(\"Average R-Squared (R2) using Cross-Validation:\", r2_cv)\n"
   ]
  },
  {
   "cell_type": "code",
   "execution_count": null,
   "id": "6403680d",
   "metadata": {},
   "outputs": [],
   "source": []
  },
  {
   "cell_type": "markdown",
   "id": "d21e3b0d",
   "metadata": {},
   "source": [
    "# Random Forest Regressor\n"
   ]
  },
  {
   "cell_type": "code",
   "execution_count": 9,
   "id": "8158b172",
   "metadata": {},
   "outputs": [
    {
     "name": "stdout",
     "output_type": "stream",
     "text": [
      "Random Forest Regressor Model Metrics:\n",
      "Mean Squared Error (MSE) on Testing Data: 0.5867324999999992\n",
      "R-Squared (R2) on Testing Data: 0.9814110996153599\n",
      "Mean Squared Error (MSE) using Cross-Validation: 0.6833596062499994\n",
      "Average R-Squared (R2) using Cross-Validation: 0.9691987771127458\n"
     ]
    }
   ],
   "source": [
    "from sklearn.ensemble import RandomForestRegressor\n",
    "\n",
    "# Initialize Random Forest Regressor model\n",
    "random_forest_model = RandomForestRegressor(n_estimators=100, random_state=42)  # You can adjust n_estimators and other parameters\n",
    "\n",
    "# Train the model on the scaled training features\n",
    "random_forest_model.fit(X_train_scaled, y_train)\n",
    "\n",
    "# Predict on the scaled testing features\n",
    "y_test_pred = random_forest_model.predict(X_test_scaled)\n",
    "\n",
    "# Calculate metrics for testing data\n",
    "mse_test = mean_squared_error(y_test, y_test_pred)\n",
    "r2_test = r2_score(y_test, y_test_pred)\n",
    "\n",
    "# Perform cross-validation to get predicted values\n",
    "y_cv_pred = cross_val_predict(random_forest_model, X_train_scaled, y_train, cv=5)\n",
    "\n",
    "# Calculate MSE using cross-validation\n",
    "mse_cv = mean_squared_error(y_train, y_cv_pred)\n",
    "\n",
    "# Calculate R-squared using cross-validation\n",
    "r2_cv = np.mean(cross_val_score(random_forest_model, X_train_scaled, y_train, cv=5, scoring='r2'))\n",
    "\n",
    "print(\"Random Forest Regressor Model Metrics:\")\n",
    "print(\"Mean Squared Error (MSE) on Testing Data:\", mse_test)\n",
    "print(\"R-Squared (R2) on Testing Data:\", r2_test)\n",
    "print(\"Mean Squared Error (MSE) using Cross-Validation:\", mse_cv)\n",
    "print(\"Average R-Squared (R2) using Cross-Validation:\", r2_cv)\n"
   ]
  },
  {
   "cell_type": "code",
   "execution_count": null,
   "id": "c7e543a2",
   "metadata": {},
   "outputs": [],
   "source": []
  },
  {
   "cell_type": "markdown",
   "id": "8a2049b3",
   "metadata": {},
   "source": [
    "# Compare Performance of the 4 models"
   ]
  },
  {
   "cell_type": "code",
   "execution_count": 12,
   "id": "73397488",
   "metadata": {},
   "outputs": [
    {
     "name": "stderr",
     "output_type": "stream",
     "text": [
      "/var/folders/z0/_53pqkc52j94k8cbwvw_qgf40000gn/T/ipykernel_64049/3511483720.py:7: FutureWarning: The frame.append method is deprecated and will be removed from pandas in a future version. Use pandas.concat instead.\n",
      "  model_metrics = model_metrics.append({\n",
      "/var/folders/z0/_53pqkc52j94k8cbwvw_qgf40000gn/T/ipykernel_64049/3511483720.py:16: FutureWarning: The frame.append method is deprecated and will be removed from pandas in a future version. Use pandas.concat instead.\n",
      "  model_metrics = model_metrics.append({\n",
      "/var/folders/z0/_53pqkc52j94k8cbwvw_qgf40000gn/T/ipykernel_64049/3511483720.py:25: FutureWarning: The frame.append method is deprecated and will be removed from pandas in a future version. Use pandas.concat instead.\n",
      "  model_metrics = model_metrics.append({\n",
      "/var/folders/z0/_53pqkc52j94k8cbwvw_qgf40000gn/T/ipykernel_64049/3511483720.py:34: FutureWarning: The frame.append method is deprecated and will be removed from pandas in a future version. Use pandas.concat instead.\n",
      "  model_metrics = model_metrics.append({\n"
     ]
    },
    {
     "data": {
      "text/html": [
       "<div>\n",
       "<style scoped>\n",
       "    .dataframe tbody tr th:only-of-type {\n",
       "        vertical-align: middle;\n",
       "    }\n",
       "\n",
       "    .dataframe tbody tr th {\n",
       "        vertical-align: top;\n",
       "    }\n",
       "\n",
       "    .dataframe thead th {\n",
       "        text-align: right;\n",
       "    }\n",
       "</style>\n",
       "<table border=\"1\" class=\"dataframe\">\n",
       "  <thead>\n",
       "    <tr style=\"text-align: right;\">\n",
       "      <th></th>\n",
       "      <th>Model</th>\n",
       "      <th>MSE Test</th>\n",
       "      <th>R2 Test</th>\n",
       "      <th>MSE CV</th>\n",
       "      <th>Avg R2 CV</th>\n",
       "    </tr>\n",
       "  </thead>\n",
       "  <tbody>\n",
       "    <tr>\n",
       "      <th>0</th>\n",
       "      <td>Linear Regression</td>\n",
       "      <td>3.174</td>\n",
       "      <td>0.899</td>\n",
       "      <td>2.943</td>\n",
       "      <td>0.859</td>\n",
       "    </tr>\n",
       "    <tr>\n",
       "      <th>1</th>\n",
       "      <td>Polynomial Regression</td>\n",
       "      <td>0.413</td>\n",
       "      <td>0.987</td>\n",
       "      <td>0.488</td>\n",
       "      <td>0.977</td>\n",
       "    </tr>\n",
       "    <tr>\n",
       "      <th>2</th>\n",
       "      <td>Ridge Regression</td>\n",
       "      <td>3.194</td>\n",
       "      <td>0.899</td>\n",
       "      <td>2.946</td>\n",
       "      <td>0.860</td>\n",
       "    </tr>\n",
       "    <tr>\n",
       "      <th>3</th>\n",
       "      <td>Random Forest Regressor</td>\n",
       "      <td>0.587</td>\n",
       "      <td>0.981</td>\n",
       "      <td>0.683</td>\n",
       "      <td>0.969</td>\n",
       "    </tr>\n",
       "  </tbody>\n",
       "</table>\n",
       "</div>"
      ],
      "text/plain": [
       "                     Model  MSE Test  R2 Test  MSE CV  Avg R2 CV\n",
       "0        Linear Regression     3.174    0.899   2.943      0.859\n",
       "1    Polynomial Regression     0.413    0.987   0.488      0.977\n",
       "2         Ridge Regression     3.194    0.899   2.946      0.860\n",
       "3  Random Forest Regressor     0.587    0.981   0.683      0.969"
      ]
     },
     "execution_count": 12,
     "metadata": {},
     "output_type": "execute_result"
    }
   ],
   "source": [
    "import pandas as pd\n",
    "\n",
    "# Create a DataFrame to store model metrics\n",
    "model_metrics = pd.DataFrame(columns=['Model', 'MSE Test', 'R2 Test', 'MSE CV', 'Avg R2 CV'])\n",
    "\n",
    "# Add metrics for Linear Regression\n",
    "model_metrics = model_metrics.append({\n",
    "    'Model': 'Linear Regression',\n",
    "    'MSE Test': 3.174,\n",
    "    'R2 Test': 0.899,\n",
    "    'MSE CV': 2.943,\n",
    "    'Avg R2 CV': 0.859\n",
    "}, ignore_index=True)\n",
    "\n",
    "# Add metrics for Polynomial Regression\n",
    "model_metrics = model_metrics.append({\n",
    "    'Model': 'Polynomial Regression',\n",
    "    'MSE Test': 0.413,\n",
    "    'R2 Test': 0.987,\n",
    "    'MSE CV': 0.488,\n",
    "    'Avg R2 CV': 0.977\n",
    "}, ignore_index=True)\n",
    "\n",
    "# Add metrics for Ridge Regression\n",
    "model_metrics = model_metrics.append({\n",
    "    'Model': 'Ridge Regression',\n",
    "    'MSE Test': 3.194,\n",
    "    'R2 Test': 0.899,\n",
    "    'MSE CV': 2.946,\n",
    "    'Avg R2 CV': 0.860\n",
    "}, ignore_index=True)\n",
    "\n",
    "# Add metrics for Random Forest Regressor\n",
    "model_metrics = model_metrics.append({\n",
    "    'Model': 'Random Forest Regressor',\n",
    "    'MSE Test': 0.587,\n",
    "    'R2 Test': 0.981,\n",
    "    'MSE CV': 0.683,\n",
    "    'Avg R2 CV': 0.969\n",
    "}, ignore_index=True)\n",
    "\n",
    "# Display the model metrics\n",
    "model_metrics\n"
   ]
  },
  {
   "cell_type": "code",
   "execution_count": null,
   "id": "ca6521b1",
   "metadata": {},
   "outputs": [],
   "source": []
  },
  {
   "cell_type": "code",
   "execution_count": null,
   "id": "63975c2a",
   "metadata": {},
   "outputs": [],
   "source": []
  },
  {
   "cell_type": "code",
   "execution_count": 11,
   "id": "9df926ec",
   "metadata": {},
   "outputs": [
    {
     "data": {
      "image/png": "[encoded data removed]",
      "text/plain": [
       "<Figure size 1000x1000 with 2 Axes>"
      ]
     },
     "metadata": {},
     "output_type": "display_data"
    }
   ],
   "source": [
    "import matplotlib.pyplot as plt\n",
    "\n",
    "# Model names\n",
    "models = ['Linear Regression', 'Polynomial Regression', 'Ridge Regression', 'Random Forest']\n",
    "\n",
    "# Corresponding metrics values (MSE Test, R2 Test, MSE CV, Avg R2 CV)\n",
    "mse_test = [3.174, 0.413, 3.194, 0.587]\n",
    "r2_test = [0.899, 0.987, 0.899, 0.981]\n",
    "mse_cv = [2.943, 0.488, 2.946, 0.683]\n",
    "avg_r2_cv = [0.859, 0.977, 0.860, 0.969]\n",
    "\n",
    "# Create subplots\n",
    "fig, axs = plt.subplots(2, 1, figsize=(10, 10))\n",
    "\n",
    "# Plot MSE and R2 on the first subplot\n",
    "axs[0].bar(models, mse_test, label='MSE Test', color='blue')\n",
    "axs[0].bar(models, r2_test, label='R2 Test', color='orange', alpha=0.7)\n",
    "axs[0].set_title('MSE and R2 on Testing Data')\n",
    "axs[0].set_ylabel('Value')\n",
    "axs[0].legend()\n",
    "\n",
    "# Plot MSE CV and Avg R2 CV on the second subplot\n",
    "axs[1].bar(models, mse_cv, label='MSE CV', color='green')\n",
    "axs[1].bar(models, avg_r2_cv, label='Avg R2 CV', color='red', alpha=0.7)\n",
    "axs[1].set_title('MSE CV and Avg R2 CV using Cross-Validation')\n",
    "axs[1].set_ylabel('Value')\n",
    "axs[1].legend()\n",
    "\n",
    "# Adjust layout\n",
    "plt.tight_layout()\n",
    "\n",
    "# Show the plot\n",
    "plt.show()\n"
   ]
  },
  {
   "cell_type": "code",
   "execution_count": null,
   "id": "e34450fe",
   "metadata": {},
   "outputs": [],
   "source": []
  },
  {
   "cell_type": "code",
   "execution_count": null,
   "id": "dafbcce8",
   "metadata": {},
   "outputs": [],
   "source": []
  },
  {
   "cell_type": "markdown",
   "id": "153b1ca6",
   "metadata": {},
   "source": [
    "# Model Interpretation\n"
   ]
  },
  {
   "cell_type": "code",
   "execution_count": 13,
   "id": "e9c03d42",
   "metadata": {},
   "outputs": [
    {
     "name": "stdout",
     "output_type": "stream",
     "text": [
      "Coefficients of Polynomial Regression Model:\n",
      "[ 0.          3.59803711  2.85761244  0.08193084 -0.79521525  1.38016308\n",
      " -0.1259047   0.02893645  0.0373683   0.01149387]\n"
     ]
    }
   ],
   "source": [
    "# Coefficient Analysis : Extracting the coefficients of the final model\n",
    "\n",
    "\n",
    "# Initialize Polynomial Regression model\n",
    "final_polynomial_reg_model = make_pipeline(PolynomialFeatures(degree=2), LinearRegression())\n",
    "\n",
    "# Train the model on the scaled training features\n",
    "final_polynomial_reg_model.fit(X_train_scaled, y_train)\n",
    "\n",
    "# Extract the coefficients of the model\n",
    "coefficients = final_polynomial_reg_model.named_steps['linearregression'].coef_\n",
    "\n",
    "# Print the coefficients\n",
    "print(\"Coefficients of Polynomial Regression Model:\")\n",
    "print(coefficients)\n"
   ]
  },
  {
   "cell_type": "code",
   "execution_count": null,
   "id": "d67a30f0",
   "metadata": {},
   "outputs": [],
   "source": []
  },
  {
   "cell_type": "code",
   "execution_count": null,
   "id": "91311f3a",
   "metadata": {},
   "outputs": [],
   "source": []
  },
  {
   "cell_type": "code",
   "execution_count": 14,
   "id": "5718c0a6",
   "metadata": {},
   "outputs": [
    {
     "name": "stdout",
     "output_type": "stream",
     "text": [
      "Coefficients of Linear Regression Model:\n",
      "[3.76419618 2.79230665 0.05597551]\n"
     ]
    }
   ],
   "source": [
    "#Extracting the coefficients of the Linear Regression model\n",
    "\n",
    "from sklearn.linear_model import LinearRegression\n",
    "\n",
    "# Initialize Linear Regression model\n",
    "final_linear_reg_model = LinearRegression()\n",
    "\n",
    "# Train the model on the scaled training features\n",
    "final_linear_reg_model.fit(X_train_scaled, y_train)\n",
    "\n",
    "# Extract the coefficients of the model\n",
    "coefficients_linear = final_linear_reg_model.coef_\n",
    "\n",
    "# Print the coefficients\n",
    "print(\"Coefficients of Linear Regression Model:\")\n",
    "print(coefficients_linear)\n"
   ]
  },
  {
   "cell_type": "code",
   "execution_count": null,
   "id": "46862f55",
   "metadata": {},
   "outputs": [],
   "source": []
  },
  {
   "cell_type": "code",
   "execution_count": null,
   "id": "3b622ef2",
   "metadata": {},
   "outputs": [],
   "source": []
  },
  {
   "cell_type": "code",
   "execution_count": 16,
   "id": "5df3ea69",
   "metadata": {},
   "outputs": [
    {
     "name": "stdout",
     "output_type": "stream",
     "text": [
      "Feature Importances of Random Forest Regressor Model:\n",
      "TV: 0.6228948513447439\n",
      "Radio: 0.36499799629238683\n",
      "Newspaper: 0.01210715236286926\n"
     ]
    }
   ],
   "source": [
    "from sklearn.ensemble import RandomForestRegressor\n",
    "\n",
    "# Initialize Random Forest Regressor model\n",
    "final_random_forest_model = RandomForestRegressor()\n",
    "\n",
    "# Train the model on the standardized training features\n",
    "final_random_forest_model.fit(X_train_scaled, y_train)\n",
    "\n",
    "# Extract feature importances\n",
    "feature_importances = final_random_forest_model.feature_importances_\n",
    "\n",
    "# Define the list of feature names (replace with your actual feature names)\n",
    "feature_names = ['TV', 'Radio', 'Newspaper']\n",
    "\n",
    "# Print feature importances\n",
    "print(\"Feature Importances of Random Forest Regressor Model:\")\n",
    "for feature_name, importance in zip(feature_names, feature_importances):\n",
    "    print(f\"{feature_name}: {importance}\")\n"
   ]
  },
  {
   "cell_type": "code",
   "execution_count": null,
   "id": "89bd99fb",
   "metadata": {},
   "outputs": [],
   "source": []
  },
  {
   "cell_type": "code",
   "execution_count": null,
   "id": "1364519a",
   "metadata": {},
   "outputs": [],
   "source": []
  },
  {
   "cell_type": "markdown",
   "id": "4d04a717",
   "metadata": {},
   "source": [
    "# now given TV=50.0, radio = 100, and Newspaper = 45. lets use the Polynomial Regression model to predict what sale"
   ]
  },
  {
   "cell_type": "code",
   "execution_count": 19,
   "id": "8670abaf",
   "metadata": {},
   "outputs": [
    {
     "name": "stdout",
     "output_type": "stream",
     "text": [
      "Predicted Sales: [5594.4069423]\n"
     ]
    }
   ],
   "source": [
    "# Given advertising budgets for prediction (scaled)\n",
    "new_advertising_budgets_scaled = np.array([[50.0, 100, 45]])  # Make sure this input has 3 features\n",
    "\n",
    "# Make the prediction using the trained model\n",
    "predicted_sales = polynomial_reg_model.predict(new_advertising_budgets_scaled)\n",
    "\n",
    "print(\"Predicted Sales:\", predicted_sales)\n"
   ]
  },
  {
   "cell_type": "code",
   "execution_count": null,
   "id": "eb53b5c9",
   "metadata": {},
   "outputs": [],
   "source": []
  },
  {
   "cell_type": "code",
   "execution_count": null,
   "id": "322c089c",
   "metadata": {},
   "outputs": [],
   "source": []
  },
  {
   "cell_type": "code",
   "execution_count": null,
   "id": "455fb067",
   "metadata": {},
   "outputs": [],
   "source": []
  },
  {
   "cell_type": "code",
   "execution_count": 22,
   "id": "ac1f4659",
   "metadata": {},
   "outputs": [
    {
     "name": "stdout",
     "output_type": "stream",
     "text": [
      "Predicted Sales: [16.84313423]\n"
     ]
    },
    {
     "name": "stderr",
     "output_type": "stream",
     "text": [
      "/Users/AKB_CIM/anaconda3/lib/python3.11/site-packages/sklearn/base.py:439: UserWarning: X does not have valid feature names, but StandardScaler was fitted with feature names\n",
      "  warnings.warn(\n"
     ]
    }
   ],
   "source": [
    "#Scaling the data before making prediction\n",
    "\n",
    "\n",
    "\n",
    "# Given advertising budgets for prediction (scaled)\n",
    "new_advertising_budgets = np.array([[50.0, 100, 45]])\n",
    "new_advertising_budgets_scaled = scaler.transform(new_advertising_budgets)  # Use the same scaler as during training\n",
    "\n",
    "# Reshape the input to match the expected shape\n",
    "new_advertising_budgets_reshaped = new_advertising_budgets_scaled.reshape(1, -1)\n",
    "\n",
    "# Make the prediction using the trained model\n",
    "predicted_sales = polynomial_reg_model.predict(new_advertising_budgets_reshaped)\n",
    "\n",
    "print(\"Predicted Sales:\", predicted_sales)\n"
   ]
  },
  {
   "cell_type": "code",
   "execution_count": null,
   "id": "a074373a",
   "metadata": {},
   "outputs": [],
   "source": []
  },
  {
   "cell_type": "code",
   "execution_count": null,
   "id": "0062a3ce",
   "metadata": {},
   "outputs": [],
   "source": []
  }
 ],
 "metadata": {
  "kernelspec": {
   "display_name": "Python 3 (ipykernel)",
   "language": "python",
   "name": "python3"
  },
  "language_info": {
   "codemirror_mode": {
    "name": "ipython",
    "version": 3
   },
   "file_extension": ".py",
   "mimetype": "text/x-python",
   "name": "python",
   "nbconvert_exporter": "python",
   "pygments_lexer": "ipython3",
   "version": "3.11.3"
  }
 },
 "nbformat": 4,
 "nbformat_minor": 5
}
